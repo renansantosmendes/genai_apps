{
  "nbformat": 4,
  "nbformat_minor": 0,
  "metadata": {
    "colab": {
      "provenance": []
    },
    "kernelspec": {
      "name": "python3",
      "display_name": "Python 3"
    },
    "language_info": {
      "name": "python"
    }
  },
  "cells": [
    {
      "cell_type": "markdown",
      "source": [
        "# **Técnicas Avançadas de Prompt Engineering com LangChain**\n",
        "\n",
        "**Autor**: Renan Santos Mendes\n",
        "\n",
        "**Email**: renansantosmendes@gmail.com\n",
        "\n",
        "**Descrição**: Este notebook explora técnicas avançadas de prompt engineering aplicadas ao mercado financeiro, implementando os padrões **Reflexion** e **Self-Consistency** usando LangChain e OpenAI. O projeto demonstra como melhorar a qualidade e confiabilidade das respostas de LLMs através de:\n",
        "\n",
        "- **Reflexion**: Técnica de autorreflexão em três etapas (geração → crítica → melhoria) que permite ao modelo revisar e aprimorar suas próprias análises\n",
        "- **Self-Consistency**: Geração de múltiplas respostas com diferentes temperaturas e agregação dos resultados para identificar padrões consistentes\n",
        "- **Prompt Registry**: Gerenciamento centralizado de prompts usando LangSmith para versionamento e compartilhamento\n",
        "- **LCEL (LangChain Expression Language)**: Composição de chains complexas de forma declarativa e funcional\n",
        "\n",
        "O notebook inclui casos práticos de análise de investimentos, validação de estratégias de trading e recomendações financeiras, demonstrando como essas técnicas produzem análises mais robustas, identificam riscos subestimados e geram recomendações com maior nível de confiança."
      ],
      "metadata": {
        "id": "YHasN98vVFZE"
      }
    },
    {
      "cell_type": "markdown",
      "source": [
        "## **Instalação dos Pacotes**"
      ],
      "metadata": {
        "id": "Wyv5p1NiUZK1"
      }
    },
    {
      "cell_type": "code",
      "execution_count": 1,
      "metadata": {
        "id": "zYmBRIFSbm8P"
      },
      "outputs": [],
      "source": [
        "%%capture --no-stderr\n",
        "!pip install langchain langchain-openai langchain-core langchain-community\n",
        "!pip install langsmith langgraph"
      ]
    },
    {
      "cell_type": "markdown",
      "source": [
        "## **Imports dos Pacotes Usados no Notebook**\n",
        "\n",
        "Este conjunto de imports configura um ambiente para criar **agentes de IA conversacionais** usando LangChain e modelos da OpenAI. Inclui ferramentas para\n",
        "- manipulação de arquivos e sistema operacional (`os`),\n",
        "- acesso ao Google Drive e dados do Colab (`google.colab`),\n",
        "- toda a infraestrutura do LangChain"
      ],
      "metadata": {
        "id": "OkxclV5dUSP9"
      }
    },
    {
      "cell_type": "code",
      "source": [
        "import os\n",
        "\n",
        "from google.colab import userdata\n",
        "\n",
        "from langsmith import Client\n",
        "from langchain_openai import ChatOpenAI\n",
        "from langchain.prompts import BasePromptTemplate\n",
        "from langchain_core.prompts import ChatPromptTemplate\n",
        "from langchain_core.runnables import RunnableLambda\n",
        "from langchain_core.runnables import RunnablePassthrough"
      ],
      "metadata": {
        "id": "0IpCeGn2WdrW"
      },
      "execution_count": 2,
      "outputs": []
    },
    {
      "cell_type": "markdown",
      "source": [
        "## **Configuração das Variáveis de Ambiente**\n",
        "\n",
        "Configuração de variáveis de ambiente para OpenAI e LangSmith"
      ],
      "metadata": {
        "id": "4XCHg9gVUNBu"
      }
    },
    {
      "cell_type": "code",
      "source": [
        "os.environ['OPENAI_API_KEY'] = userdata.get('OPENAI_KEY')\n",
        "os.environ[\"LANGCHAIN_TRACING_V2\"] = \"true\"\n",
        "os.environ[\"LANGCHAIN_ENDPOINT\"] = \"https://api.smith.langchain.com\"\n",
        "os.environ[\"LANGCHAIN_API_KEY\"] = userdata.get('LANGSMITH_KEY')\n",
        "os.environ[\"LANGCHAIN_PROJECT\"] = \"prompt-engineering-techniques\""
      ],
      "metadata": {
        "id": "9jvGbIVA0HtN"
      },
      "execution_count": 3,
      "outputs": []
    },
    {
      "cell_type": "markdown",
      "source": [
        "##**Criação do principal LLM para responder as pergutnas**"
      ],
      "metadata": {
        "id": "8FjF4SHpSyTC"
      }
    },
    {
      "cell_type": "code",
      "source": [
        "llm = ChatOpenAI(\n",
        "    model=\"gpt-4o-mini\",\n",
        "    temperature=0.7,\n",
        "    api_key=os.getenv(\"OPENAI_API_KEY\")\n",
        ")"
      ],
      "metadata": {
        "id": "vDmNxrjMSx24"
      },
      "execution_count": 4,
      "outputs": []
    },
    {
      "cell_type": "markdown",
      "source": [
        "##**Reflexion**\n",
        "\n",
        "**Reflexion** é uma técnica de prompt engineering onde o modelo de linguagem é instruído a **analisar sua própria resposta anterior** antes de responder novamente.\n",
        "\n",
        "## Como funciona:\n",
        "1. O modelo gera uma resposta inicial\n",
        "2. Em seguida, critica e reflete sobre os erros ou lacunas dessa resposta\n",
        "3. Por fim, produz uma resposta melhorada baseada nessa autorreflexão\n",
        "\n",
        "## Objetivo principal:\n",
        "Melhorar significativamente a **qualidade, precisão e coerência** das respostas através desse ciclo de feedback automático, permitindo que o modelo \"pense melhor\" antes de dar a resposta final."
      ],
      "metadata": {
        "id": "aIT3Us9MRO4T"
      }
    },
    {
      "cell_type": "code",
      "source": [
        "question = \"\"\"Analise a oportunidade de investimento em Petrobras (PETR4).\n",
        "Considere:\n",
        "- Preço atual: R$ 38,50\n",
        "- P/L: 3,2\n",
        "- Dividend Yield: 12%\n",
        "- Contexto: Preços de petróleo estáveis, transição energética global\n",
        "\n",
        "Forneça recomendação: COMPRA, VENDA ou MANTER.\"\"\"\n",
        "\n",
        "domain = \"análise de ações brasileiras\""
      ],
      "metadata": {
        "id": "ImmktVrgYkIK"
      },
      "execution_count": 5,
      "outputs": []
    },
    {
      "cell_type": "markdown",
      "source": [
        "###**Geração da resposta inicial**"
      ],
      "metadata": {
        "id": "-Zdg1wuRWKsh"
      }
    },
    {
      "cell_type": "code",
      "source": [
        "generation_prompt = ChatPromptTemplate.from_messages([\n",
        "    (\"system\", \"\"\"Você é um analista financeiro sênior especializado em {domain}.\n",
        "    Sua análise deve ser fundamentada, objetiva e baseada em dados.\n",
        "    Considere sempre fundamentos, valuation, riscos e contexto macroeconômico.\"\"\"),\n",
        "    (\"human\", \"{question}\")\n",
        "])\n",
        "\n",
        "initial_chain = generation_prompt | llm\n",
        "initial_answer = initial_chain.invoke(\n",
        "    {\n",
        "        \"question\": question,\n",
        "        \"domain\": domain\n",
        "        }\n",
        "    ).content"
      ],
      "metadata": {
        "id": "gIAaZWfXWRP-"
      },
      "execution_count": 6,
      "outputs": []
    },
    {
      "cell_type": "markdown",
      "source": [
        "###**Geração da avaliação da resposta**"
      ],
      "metadata": {
        "id": "cc4_e4R2WZrN"
      }
    },
    {
      "cell_type": "code",
      "source": [
        "reflection_prompt = ChatPromptTemplate.from_messages([\n",
        "    (\"system\", \"\"\"Você é um gestor de risco rigoroso fazendo \"Red Team\" da análise abaixo.\n",
        "    Identifique:\n",
        "    - Vieses cognitivos (ancoragem, confirmação, otimismo excessivo)\n",
        "    - Riscos subestimados ou não mencionados\n",
        "    - Premissas questionáveis ou não testadas\n",
        "    - Cenários adversos ignorados\n",
        "    - Pontos fracos na análise\n",
        "\n",
        "    Seja crítico mas construtivo.\"\"\"),\n",
        "    (\"human\", \"Pergunta: {question}\\n\\nResposta: {answer}\\n\\nForneça uma crítica construtiva:\")\n",
        "])\n",
        "\n",
        "reflection_chain = reflection_prompt | llm\n",
        "critique = reflection_chain.invoke({\n",
        "    \"question\": question,\n",
        "    \"answer\": initial_answer\n",
        "}).content"
      ],
      "metadata": {
        "id": "FLjyYB6bWdaM"
      },
      "execution_count": 7,
      "outputs": []
    },
    {
      "cell_type": "markdown",
      "source": [
        "###**Refinamento da resposta com base na avaliação anterior**"
      ],
      "metadata": {
        "id": "W7MW_-9aWejb"
      }
    },
    {
      "cell_type": "code",
      "source": [
        "improvement_prompt = ChatPromptTemplate.from_messages([\n",
        "    (\"system\", \"\"\"Você é um Chief Investment Officer (CIO) experiente.\n",
        "    Melhore a análise original considerando a crítica recebida.\n",
        "\n",
        "    Sua análise refinada deve incluir:\n",
        "    - Análise de cenários (otimista/base/pessimista)\n",
        "    - Riscos claramente identificados e quantificados\n",
        "    - Recomendação com justificativa robusta\n",
        "    - Métricas e níveis de preço relevantes\"\"\"),\n",
        "    (\"human\", \"Pergunta: {question}\\n\\nResposta Original: {answer}\\n\\nCrítica: {critique}\\n\\nForneça uma resposta melhorada:\")\n",
        "])\n",
        "\n",
        "improvement_chain = improvement_prompt | llm\n",
        "improved_answer = improvement_chain.invoke({\n",
        "    \"question\": question,\n",
        "    \"answer\": initial_answer,\n",
        "    \"critique\": critique\n",
        "}).content"
      ],
      "metadata": {
        "id": "trm1RVE5QybG"
      },
      "execution_count": 8,
      "outputs": []
    },
    {
      "cell_type": "code",
      "source": [
        "print({\n",
        "    \"question\": question,\n",
        "    \"initial_answer\": initial_answer,\n",
        "    \"critique\": critique,\n",
        "    \"improved_answer\": improved_answer\n",
        "})"
      ],
      "metadata": {
        "colab": {
          "base_uri": "https://localhost:8080/"
        },
        "id": "CIpp01xlWsAI",
        "outputId": "28a3a91d-f654-44b2-a652-78899f611ab3"
      },
      "execution_count": 9,
      "outputs": [
        {
          "output_type": "stream",
          "name": "stdout",
          "text": [
            "{'question': 'Analise a oportunidade de investimento em Petrobras (PETR4).\\nConsidere:\\n- Preço atual: R$ 38,50\\n- P/L: 3,2\\n- Dividend Yield: 12%\\n- Contexto: Preços de petróleo estáveis, transição energética global\\n\\nForneça recomendação: COMPRA, VENDA ou MANTER.', 'initial_answer': '### Análise de Investimento em Petrobras (PETR4)\\n\\n#### Contexto Atual\\nA Petrobras (PETR4) é uma das maiores empresas de petróleo e gás do Brasil, com uma forte influência no mercado energético nacional e internacional. Atualmente, a empresa opera em um ambiente de preços de petróleo relativamente estáveis, mas enfrenta desafios relacionados à transição energética global, que pode impactar a demanda por combustíveis fósseis no longo prazo.\\n\\n#### Fundamentos\\n1. **P/L (Preço sobre Lucro)**: O P/L de 3,2 é extremamente baixo quando comparado ao P/L médio do setor, que normalmente gira em torno de 10 a 15. Um P/L tão baixo pode indicar que a ação está subvalorizada, mas também pode refletir preocupações do mercado em relação à sustentabilidade dos lucros da empresa no futuro.\\n\\n2. **Dividend Yield**: Com um Dividend Yield de 12%, a Petrobras se destaca como uma opção atraente para investidores que buscam renda passiva. Esse nível de distribuição de dividendos é bastante elevado e sugere que a empresa está comprometida em retornar valor aos acionistas, mesmo em um ambiente desafiador.\\n\\n#### Valuation\\nConsiderando o P/L e o Dividend Yield, a Petrobras parece estar subvalorizada em relação a seus pares. O baixo múltiplo de lucro pode indicar uma oportunidade de compra, principalmente se a empresa conseguir manter sua capacidade de geração de caixa e continuar distribuindo dividendos de forma consistente.\\n\\n#### Riscos\\n1. **Volatilidade do Preço do Petróleo**: Apesar dos preços atuais estarem estáveis, qualquer flutuação significativa no preço do petróleo pode impactar drasticamente os resultados financeiros da Petrobras.\\n\\n2. **Transição Energética**: A pressão global para a transição para fontes de energia mais limpas pode afetar a demanda por combustíveis fósseis, colocando em risco o modelo de negócios da Petrobras a longo prazo.\\n\\n3. **Interferência Governamental**: A Petrobras é uma empresa estatal e, portanto, está sujeita a intervenções políticas que podem impactar suas operações e resultados financeiros.\\n\\n#### Contexto Macroeconômico\\nO Brasil está passando por um período de incerteza econômica, mas a Petrobras se beneficia de sua posição dominante no setor energético. O cenário de preços de petróleo estáveis pode proporcionar uma base sólida para os resultados da empresa no curto prazo.\\n\\n### Recomendação\\n**COMPRA**: Diante do valuation atrativo, do elevado Dividend Yield e do potencial de valorização das ações, a Petrobras (PETR4) representa uma oportunidade de investimento. No entanto, os investidores devem estar cientes dos riscos associados e monitorar de perto as condições do mercado de petróleo e as políticas governamentais que podem impactar a empresa. A recomendação é de compra, especialmente para investidores que buscam renda passiva e estão dispostos a assumir algum risco em função da volatilidade do setor.', 'critique': '### Crítica Construtiva da Análise de Investimento em Petrobras (PETR4)\\n\\n#### Vieses Cognitivos Identificados\\n1. **Ancoragem**: A análise se baseia fortemente no P/L de 3,2 e no Dividend Yield de 12% como indicadores centrais de valor. Essa ancoragem pode levar a uma visão excessivamente otimista, ignorando outros fatores que podem ser mais relevantes para a avaliação da empresa.\\n  \\n2. **Confirmação**: A análise parece buscar reforçar a ideia de que a Petrobras é uma boa oportunidade de compra, sem considerar informações que possam contradizer essa visão. Por exemplo, não são explorados cenários em que a empresa pode falhar em manter seu nível de dividendos ou em se adaptar à transição energética.\\n\\n3. **Otimismo Excessivo**: A recomendação de compra pode refletir um otimismo excessivo, especialmente em relação à capacidade da empresa de sustentar dividendos altos em um ambiente de incertezas políticas e de mercado.\\n\\n#### Riscos Subestimados ou Não Mencionados\\n1. **Risco de Endividamento**: A análise não menciona a possibilidade de que a Petrobras ainda enfrente desafios relacionados a sua estrutura de capital e níveis de endividamento, que podem ser impactados pela volatilidade do preço do petróleo e pelas pressões econômicas.\\n\\n2. **Riscos Ambientais e Regulatórios**: A transição energética não é apenas uma ameaça, mas também pode resultar em custos regulatórios significativos e multas relacionadas a práticas ambientais. A análise não aborda como isso pode afetar os resultados futuros da empresa.\\n\\n3. **Cenários Geopolíticos**: A análise ignora o impacto das tensões geopolíticas no fornecimento de petróleo e nos preços, o que pode ter um efeito direto e significativo sobre os resultados da Petrobras.\\n\\n#### Premissas Questionáveis ou Não Testadas\\n1. **Presunção de Estabilidade nos Preços do Petróleo**: A análise assume que os preços do petróleo permanecerão estáveis, desconsiderando a possibilidade de crises geopolíticas, mudanças na oferta e demanda, ou até mesmo eventos inesperados (como pandemias) que poderiam afetar o mercado.\\n\\n2. **Sustentabilidade dos Dividendos**: A suposição de que o elevado Dividend Yield pode ser mantido é arriscada, especialmente em um cenário de flutuações nos lucros e na política de distribuição de dividendos da empresa.\\n\\n#### Cenários Adversos Ignorados\\n1. **Cenário de Queda nos Preços do Petróleo**: A análise não considera o impacto que uma queda acentuada nos preços do petróleo teria sobre a rentabilidade da Petrobras e sua capacidade de sustentar dividendos.\\n\\n2. **Mudanças Políticas**: Não há consideração sobre o impacto que uma mudança na administração ou nas políticas governamentais poderia ter sobre a operação da Petrobras, especialmente em relação a preços de combustíveis e regulamentações.\\n\\n3. **Impacto da Transição Energética**: Embora mencionado, o potencial impacto da transição energética sobre o modelo de negócios da Petrobras não é explorado em profundidade. É crucial considerar cenários em que a demanda por petróleo diminui significativamente.\\n\\n#### Pontos Fracos na Análise\\n1. **Falta de Análise Comparativa**: A análise não compara a Petrobras com outras empresas do setor que podem estar se adaptando mais rapidamente às mudanças do mercado, o que poderia fornecer uma perspectiva mais equilibrada sobre seu potencial de investimento.\\n\\n2. **Ausência de Análise Técnica**: Uma análise mais abrangente poderia incluir uma perspectiva técnica das ações, como tendências de mercado, volumes de negociação e padrões de preço, que são importantes para decisões de investimento.\\n\\n3. **Superficialidade na Discussão de Riscos**: Os riscos são mencionados, mas não são explorados em detalhe. Uma análise de risco mais robusta, incluindo uma análise de sensibilidade, ajudaria a entender melhor os potenciais impactos adversos.\\n\\n### Conclusão\\nEmbora a análise inicial ofereça uma visão positiva sobre a Petrobras (PETR4), é fundamental que investidores considerem os riscos e incertezas associados a esse investimento. Uma avaliação mais equilibrada e abrangente, que considere múltiplas variáveis e cenários, seria mais útil para a tomada de decisão. Portanto, a recomendação de \"COMPRA\" deve ser reavaliada com uma análise mais crítica e abrangente da situação.', 'improved_answer': '### Análise Refinada de Investimento em Petrobras (PETR4)\\n\\n#### Contexto Atual\\nA Petrobras (PETR4) é uma das maiores empresas de petróleo e gás do Brasil, operando em um mercado que enfrenta pressões tanto econômicas quanto ambientais. Com um preço atual de R$ 38,50, a empresa apresenta um P/L de 3,2 e um Dividend Yield de 12%. Embora esses números possam parecer atraentes, é crucial avaliar a situação em um contexto mais amplo, considerando cenários diversificados e riscos potenciais.\\n\\n#### Análise de Cenários\\n\\n1. **Cenário Otimista**: \\n   - **Suposições**: Preços do petróleo se mantêm estáveis ou aumentam devido a cortes de produção da OPEC ou uma recuperação econômica forte.\\n   - **Impacto**: A Petrobras poderia aumentar sua produção e, consequentemente, seu lucro, resultando em um aumento no preço das ações. O Dividend Yield poderia ser mantido ou até aumentado.\\n   - **Resultado**: Preço das ações poderia subir para R$ 45,00, refletindo uma valorização de aproximadamente 17%.\\n\\n2. **Cenário Base**:\\n   - **Suposições**: Preços do petróleo se mantêm estáveis, com a Petrobras mantendo seu desempenho atual.\\n   - **Impacto**: A empresa consegue manter seus dividendos, mas sem crescimento significativo. O P/L continua em 3,2, refletindo preocupações do mercado.\\n   - **Resultado**: Preço das ações permanece em R$ 38,50, com dividendos sendo pagos conforme o esperado.\\n\\n3. **Cenário Pessimista**:\\n   - **Suposições**: Queda nos preços do petróleo devido a fatores geopolíticos ou mudanças drásticas na demanda, além de um aumento nas pressões regulatórias relacionadas à transição energética.\\n   - **Impacto**: A rentabilidade da Petrobras seria severamente afetada, resultando em cortes nos dividendos e uma possível deterioração da estrutura de capital.\\n   - **Resultado**: Preço das ações poderia cair para R$ 30,00, refletindo uma desvalorização de cerca de 22%.\\n\\n#### Riscos Identificados e Quantificados\\n1. **Volatilidade do Preço do Petróleo**: A Petrobras está exposta a riscos significativos relacionados à flutuação dos preços do petróleo. Uma queda de 20% nos preços do petróleo poderia reduzir os lucros em até 30%, impactando sua capacidade de distribuir dividendos.\\n\\n2. **Transição Energética**: O investimento em energia limpa e a regulamentação ambiental podem acarretar custos adicionais. A não adaptação a essas mudanças pode resultar em uma perda de participação de mercado, estimada em 10% a 15% no longo prazo.\\n\\n3. **Interferência Governamental**: Como uma estatal, a Petrobras pode ser impactada por mudanças políticas que afetam a política de preços. Uma mudança de governo pode resultar em uma política mais intervencionista, afetando os lucros.\\n\\n4. **Endividamento**: A Petrobras ainda apresenta níveis de endividamento que podem ser problemáticos em cenários de baixa nos preços do petróleo. Um aumento de 50% nas taxas de juros ou uma deterioração do fluxo de caixa pode resultar em dificuldades financeiras significativas.\\n\\n#### Recomendação\\n**MANTER**: Embora a Petrobras apresente um valuation atrativo e uma geração de dividendos robusta, os riscos associados ao investimento são substanciais. A situação atual de preços estáveis do petróleo e a pressão da transição energética continuam a criar incertezas significativas. Para investidores que buscam segurança e uma alta rentabilidade em dividendos, a empresa pode ainda ser uma opção, porém a volatilidade do setor e os riscos políticos exigem cautela.\\n\\nInvestidores devem monitorar continuamente a situação do mercado de petróleo, as políticas governamentais e a capacidade da Petrobras de adaptar seus negócios às novas realidades do mercado. Um foco em cenários adversos pode ajudar a mitigar riscos e, caso a situação melhore, a reconsideração de uma recomendação de compra pode ser viável no futuro.'}\n"
          ]
        }
      ]
    },
    {
      "cell_type": "markdown",
      "source": [
        "##**Refatorando o codigo anterior**"
      ],
      "metadata": {
        "id": "H091RZ13tb-Z"
      }
    },
    {
      "cell_type": "markdown",
      "source": [
        "###**Registro de Prompts com LangSmith**\n",
        "\n",
        "**Prompt Registry** é um conceito de gerenciamento de prompts que funciona como um repositório centralizado para armazenar, versionar e compartilhar templates de prompts.\n",
        "\n",
        "No contexto do seu código com LangSmith, o prompt registry oferece:\n",
        "\n",
        "**Principais benefícios:**\n",
        "\n",
        "- **Versionamento**: Mantém histórico de alterações nos prompts, permitindo rollback se necessário\n",
        "- **Centralização**: Um único local para gerenciar todos os prompts da organização\n",
        "- **Reutilização**: Prompts podem ser compartilhados entre diferentes projetos e equipes\n",
        "- **Colaboração**: Múltiplos desenvolvedores podem trabalhar e iterar sobre os mesmos prompts\n",
        "- **Rastreabilidade**: Acompanha qual versão do prompt foi usada em cada execução\n",
        "- **A/B Testing**: Facilita testar diferentes versões de prompts\n",
        "- **Governança**: Controle de acesso e aprovação de mudanças em prompts\n",
        "\n",
        "**Como funciona no LangSmith:**\n",
        "\n",
        "1. Você \"registra\" (push) um prompt com um identificador único\n",
        "2. O LangSmith armazena esse prompt na nuvem\n",
        "3. Qualquer aplicação pode \"puxar\" (pull) esse prompt usando o identificador\n",
        "4. Mudanças no prompt são versionadas automaticamente\n"
      ],
      "metadata": {
        "id": "Q04PRCzgtIwE"
      }
    },
    {
      "cell_type": "code",
      "source": [],
      "metadata": {
        "id": "LCnoyFvcbmCb"
      },
      "execution_count": 9,
      "outputs": []
    },
    {
      "cell_type": "code",
      "source": [
        "client = Client()\n",
        "\n",
        "# prompt = ChatPromptTemplate.from_template(\"Conte-me uma piada sobre {topic}\")\n",
        "# url = client.push_prompt(\n",
        "#     prompt_identifier=\"meu-gerador-de-piadas\",\n",
        "#     object=prompt,\n",
        "#     tags=[datetime.now().strftime(\"%Y-%m-%d %H:%M:%S\")]\n",
        "#     )\n",
        "\n",
        "# print(url)"
      ],
      "metadata": {
        "id": "lPR0MeBBctrc"
      },
      "execution_count": 10,
      "outputs": []
    },
    {
      "cell_type": "markdown",
      "source": [
        "###**Carregamento do Prompt**"
      ],
      "metadata": {
        "id": "7YVJeY2QtTRZ"
      }
    },
    {
      "cell_type": "code",
      "source": [
        "prompt = client.pull_prompt(\n",
        "    \"meu-gerador-de-piadas\",\n",
        "    include_model=True\n",
        "    )"
      ],
      "metadata": {
        "id": "olr41tZJsuHY"
      },
      "execution_count": 11,
      "outputs": []
    },
    {
      "cell_type": "code",
      "source": [
        "prompt"
      ],
      "metadata": {
        "colab": {
          "base_uri": "https://localhost:8080/"
        },
        "id": "I3fya3PXsxwt",
        "outputId": "04524003-c00d-4ce5-fd1f-d18f9753cd4a"
      },
      "execution_count": 12,
      "outputs": [
        {
          "output_type": "execute_result",
          "data": {
            "text/plain": [
              "ChatPromptTemplate(input_variables=['topic'], input_types={}, partial_variables={}, metadata={'lc_hub_owner': '-', 'lc_hub_repo': 'meu-gerador-de-piadas', 'lc_hub_commit_hash': '2c1e666c6082dead050d0df29158b7706ca5c5f678d67b0c12686e2866fe1a1c'}, messages=[HumanMessagePromptTemplate(prompt=PromptTemplate(input_variables=['topic'], input_types={}, partial_variables={}, template='Conte-me uma piada sobre {topic}'), additional_kwargs={})])"
            ]
          },
          "metadata": {},
          "execution_count": 12
        }
      ]
    },
    {
      "cell_type": "markdown",
      "source": [
        "### **Registrando os prompts anteriores**"
      ],
      "metadata": {
        "id": "XTfplYSnIk-E"
      }
    },
    {
      "cell_type": "code",
      "source": [
        "generation_prompt = ChatPromptTemplate.from_messages([\n",
        "    (\"system\", \"\"\"Você é um analista financeiro sênior especializado em {domain}.\n",
        "    Sua análise deve ser fundamentada, objetiva e baseada em dados.\n",
        "    Considere sempre fundamentos, valuation, riscos e contexto macroeconômico.\"\"\"),\n",
        "    (\"human\", \"{question}\")\n",
        "])\n",
        "\n",
        "reflection_prompt = ChatPromptTemplate.from_messages([\n",
        "    (\"system\", \"\"\"Você é um gestor de risco rigoroso fazendo \"Red Team\" da análise abaixo.\n",
        "    Identifique:\n",
        "    - Vieses cognitivos (ancoragem, confirmação, otimismo excessivo)\n",
        "    - Riscos subestimados ou não mencionados\n",
        "    - Premissas questionáveis ou não testadas\n",
        "    - Cenários adversos ignorados\n",
        "    - Pontos fracos na análise\n",
        "\n",
        "    Seja crítico mas construtivo.\"\"\"),\n",
        "    (\"human\", \"Pergunta: {question}\\n\\nResposta: {initial_answer}\\n\\nForneça uma crítica construtiva:\")\n",
        "])\n",
        "\n",
        "improvement_prompt = ChatPromptTemplate.from_messages([\n",
        "    (\"system\", \"\"\"Você é um Chief Investment Officer (CIO) experiente.\n",
        "    Melhore a análise original considerando a crítica recebida.\n",
        "\n",
        "    Sua análise refinada deve incluir:\n",
        "    - Análise de cenários (otimista/base/pessimista)\n",
        "    - Riscos claramente identificados e quantificados\n",
        "    - Recomendação com justificativa robusta\n",
        "    - Métricas e níveis de preço relevantes\"\"\"),\n",
        "    (\"human\", \"Pergunta: {question}\\n\\nResposta Original: {initial_answer}\\n\\nCrítica: {critique}\\n\\nForneça uma resposta melhorada:\")\n",
        "])"
      ],
      "metadata": {
        "id": "BYsFPvWzIuPT"
      },
      "execution_count": 13,
      "outputs": []
    },
    {
      "cell_type": "markdown",
      "source": [
        "## **PromptManager: Gerenciador Centralizado de Prompts**\n",
        "\n",
        "Esta classe implementa um **padrão de gerenciamento centralizado** para templates de prompts usando a plataforma LangSmith.\n",
        "\n",
        "### Funcionamento Macro:\n",
        "\n",
        "**1. Inicialização (`__init__`)**\n",
        "- Cria uma instância do cliente LangSmith\n",
        "- Estabelece conexão com o serviço de registro de prompts na nuvem\n",
        "- Prepara o gerenciador para operações de push/pull\n",
        "\n",
        "**2. Registro de Prompts (`prompt_registry`)**\n",
        "- Permite **publicar** templates de prompts no repositório LangSmith\n",
        "- Cada prompt recebe um identificador único (nome)\n",
        "- O template é armazenado centralmente e versionado automaticamente\n",
        "- Funciona como um \"git push\" para prompts\n",
        "\n",
        "**3. Recuperação de Prompts (`pull_registered_prompt`)**\n",
        "- Permite **baixar** templates previamente registrados\n",
        "- Busca pelo identificador único do prompt\n",
        "- Retorna o template completo, incluindo metadados do modelo\n",
        "- Funciona como um \"git pull\" para prompts\n",
        "\n",
        "### Objetivo e Benefícios:\n",
        "\n",
        "Esta classe abstrai a complexidade de gerenciar prompts ao:\n",
        "- Centralizar o acesso ao LangSmith em uma interface simples\n",
        "- Padronizar operações de registro e recuperação\n",
        "- Facilitar versionamento e compartilhamento de prompts entre projetos\n",
        "- Permitir que equipes colaborem usando os mesmos templates\n",
        "- Garantir consistência: todos usam a mesma versão do prompt\n"
      ],
      "metadata": {
        "id": "ig2BkC_yQL1O"
      }
    },
    {
      "cell_type": "code",
      "source": [
        "class PromptManager:\n",
        "    \"\"\"Manages prompt templates through LangSmith client operations.\n",
        "\n",
        "    This class provides a centralized interface for registering and retrieving\n",
        "    prompt templates using the LangSmith platform.\n",
        "    \"\"\"\n",
        "\n",
        "    def __init__(self) -> None:\n",
        "        \"\"\"Initialize the PromptManager with a LangSmith client instance.\"\"\"\n",
        "        self._prompt_client = Client()\n",
        "\n",
        "    def prompt_registry(\n",
        "        self,\n",
        "        prompt_name: str,\n",
        "        prompt: BasePromptTemplate\n",
        "    ) -> None:\n",
        "        \"\"\"Register a prompt template to the LangSmith platform.\n",
        "\n",
        "        Args:\n",
        "            prompt_name: Unique identifier for the prompt template.\n",
        "            prompt: The prompt template object to be registered.\n",
        "        \"\"\"\n",
        "        self._prompt_client.push_prompt(\n",
        "            prompt_identifier=prompt_name,\n",
        "            object=prompt\n",
        "        )\n",
        "\n",
        "    def pull_registered_prompt(self, prompt_name: str) -> BasePromptTemplate:\n",
        "        \"\"\"Retrieve a registered prompt template from LangSmith.\n",
        "\n",
        "        Args:\n",
        "            prompt_name: Unique identifier of the prompt template to retrieve.\n",
        "\n",
        "        Returns:\n",
        "            The retrieved prompt template object with model information included.\n",
        "        \"\"\"\n",
        "        return self._prompt_client.pull_prompt(\n",
        "            prompt_identifier=prompt_name,\n",
        "            include_model=True\n",
        "        )"
      ],
      "metadata": {
        "id": "7hikbxNXI0Vq"
      },
      "execution_count": 14,
      "outputs": []
    },
    {
      "cell_type": "code",
      "source": [
        "prompt_manager = PromptManager()"
      ],
      "metadata": {
        "id": "w5CPAGzDJhHL"
      },
      "execution_count": 15,
      "outputs": []
    },
    {
      "cell_type": "markdown",
      "source": [
        "##**Registrando os Prompt**"
      ],
      "metadata": {
        "id": "8-GLMPCCQOZz"
      }
    },
    {
      "cell_type": "code",
      "source": [
        "# print('Registrando os prompts...')\n",
        "# prompt_manager.prompt_registry(\n",
        "#     prompt_name='generation_prompt',\n",
        "#     prompt=generation_prompt\n",
        "#     )\n",
        "\n",
        "# prompt_manager.prompt_registry(\n",
        "#     prompt_name='reflection_prompt',\n",
        "#     prompt=reflection_prompt\n",
        "#     )\n",
        "\n",
        "# prompt_manager.prompt_registry(\n",
        "#     prompt_name='improvement_prompt',\n",
        "#     prompt=improvement_prompt\n",
        "#     )\n",
        "# print('Registro de prompts finalizado!')"
      ],
      "metadata": {
        "id": "07NXG3ZsIz21"
      },
      "execution_count": 16,
      "outputs": []
    },
    {
      "cell_type": "markdown",
      "source": [
        "##**Usando um dos prompts registrados**"
      ],
      "metadata": {
        "id": "K-eLQ2ltQPv_"
      }
    },
    {
      "cell_type": "code",
      "source": [
        "prompt_manager.pull_registered_prompt('generation_prompt')"
      ],
      "metadata": {
        "colab": {
          "base_uri": "https://localhost:8080/"
        },
        "id": "MOeWHn18NAVp",
        "outputId": "f415bb28-7f15-4e7a-ead6-0832d7b9e074"
      },
      "execution_count": 17,
      "outputs": [
        {
          "output_type": "execute_result",
          "data": {
            "text/plain": [
              "ChatPromptTemplate(input_variables=['domain', 'question'], input_types={}, partial_variables={}, metadata={'lc_hub_owner': '-', 'lc_hub_repo': 'generation_prompt', 'lc_hub_commit_hash': '9dbf71042b77d041c33a77b148255e727d3e4187d9ee9c5d369f73d4c41eb8ef'}, messages=[SystemMessagePromptTemplate(prompt=PromptTemplate(input_variables=['domain'], input_types={}, partial_variables={}, template='Você é um analista financeiro sênior especializado em {domain}.\\n    Sua análise deve ser fundamentada, objetiva e baseada em dados.\\n    Considere sempre fundamentos, valuation, riscos e contexto macroeconômico.'), additional_kwargs={}), HumanMessagePromptTemplate(prompt=PromptTemplate(input_variables=['question'], input_types={}, partial_variables={}, template='{question}'), additional_kwargs={})])"
            ]
          },
          "metadata": {},
          "execution_count": 17
        }
      ]
    },
    {
      "cell_type": "markdown",
      "source": [
        "###**Refatorando o codigo anterior**"
      ],
      "metadata": {
        "id": "KvQW7ivLagGN"
      }
    },
    {
      "cell_type": "code",
      "source": [
        "%%time\n",
        "generation_prompt = prompt_manager.pull_registered_prompt('generation_prompt')\n",
        "reflection_prompt = prompt_manager.pull_registered_prompt('reflection_prompt')\n",
        "improvement_prompt = prompt_manager.pull_registered_prompt('improvement_prompt')\n",
        "\n",
        "reflexion_chain = (\n",
        "    RunnablePassthrough.assign(\n",
        "        initial_answer=generation_prompt | llm | (lambda x: x.content)\n",
        "    )\n",
        "    | RunnablePassthrough.assign(\n",
        "        critique=reflection_prompt | llm | (lambda x: x.content)\n",
        "    )\n",
        "    | RunnablePassthrough.assign(\n",
        "        improved_answer=improvement_prompt | llm | (lambda x: x.content)\n",
        "    )\n",
        "    | RunnableLambda(lambda x: {\n",
        "        \"question\": x[\"question\"],\n",
        "        \"initial_answer\": x[\"initial_answer\"],\n",
        "        \"critique\": x[\"critique\"],\n",
        "        \"improved_answer\": x[\"improved_answer\"]\n",
        "    })\n",
        ")\n",
        "\n",
        "result = reflexion_chain.invoke({\n",
        "    \"question\": question,\n",
        "    \"domain\": domain\n",
        "})"
      ],
      "metadata": {
        "colab": {
          "base_uri": "https://localhost:8080/"
        },
        "id": "txr6LrKIakiv",
        "outputId": "d4cb1e07-266c-42a7-af32-ad3d00af2761"
      },
      "execution_count": 18,
      "outputs": [
        {
          "output_type": "stream",
          "name": "stdout",
          "text": [
            "CPU times: user 454 ms, sys: 78.1 ms, total: 532 ms\n",
            "Wall time: 50.6 s\n"
          ]
        }
      ]
    },
    {
      "cell_type": "code",
      "source": [
        "result"
      ],
      "metadata": {
        "colab": {
          "base_uri": "https://localhost:8080/"
        },
        "id": "_89Wf0KHN4kY",
        "outputId": "f89b9eed-e93d-48d9-bd19-ab819400b2ba"
      },
      "execution_count": 19,
      "outputs": [
        {
          "output_type": "execute_result",
          "data": {
            "text/plain": [
              "{'question': 'Analise a oportunidade de investimento em Petrobras (PETR4).\\nConsidere:\\n- Preço atual: R$ 38,50\\n- P/L: 3,2\\n- Dividend Yield: 12%\\n- Contexto: Preços de petróleo estáveis, transição energética global\\n\\nForneça recomendação: COMPRA, VENDA ou MANTER.',\n",
              " 'initial_answer': '### Análise da Oportunidade de Investimento em Petrobras (PETR4)\\n\\n#### 1. Contexto Geral\\nA Petrobras (PETR4) é uma das maiores empresas de petróleo e gás do Brasil e uma das principais do mundo. O cenário atual apresenta preços de petróleo estáveis, o que é um fator positivo para a empresa, dado que a volatilidade nos preços do petróleo pode impactar fortemente a receita e os lucros. Além disso, a transição energética global está em curso, o que traz desafios e oportunidades para empresas do setor de energia.\\n\\n#### 2. Fundamentais da Petrobras\\n- **P/L (Preço sobre Lucro)**: 3,2\\n  - Este índice indica que a empresa está sendo negociada a um múltiplo muito baixo em relação ao seu lucro, sugerindo que as ações podem estar subavaliadas. Um P/L abaixo de 10 é geralmente considerado atrativo, especialmente no setor de energia.\\n  \\n- **Dividend Yield**: 12%\\n  - Um rendimento de dividendos de 12% é extremamente atrativo, especialmente em um cenário de juros elevados. Isso sugere que a empresa não apenas gera lucro, mas também está comprometida em retornar valor aos acionistas.\\n\\n#### 3. Valuation\\nCom um P/L de 3,2, a Petrobras parece estar subavaliada em comparação com as médias do setor. Em geral, empresas de energia têm P/Ls que variam entre 8 e 15, dependendo do ciclo de mercado e das expectativas de crescimento. A avaliação atual pode indicar uma oportunidade de compra, considerando que os fundamentos da empresa podem se fortalecer com a estabilização dos preços do petróleo.\\n\\n#### 4. Riscos\\n- **Transição Energética**: A crescente pressão para a transição para fontes de energia renováveis pode impactar a demanda por petróleo a longo prazo. Petrobras, como uma empresa de petróleo, pode enfrentar desafios em adaptar seu modelo de negócios.\\n  \\n- **Dependência de Preços do Petróleo**: Apesar da estabilidade atual, qualquer desaceleração econômica global ou aumento na produção de petróleo por outros países pode pressionar os preços do petróleo e, por consequência, os lucros da Petrobras.\\n\\n- **Questões Políticas e Regulatórias**: Como uma empresa estatal, a Petrobras está sujeita a intervenções políticas que podem afetar sua operação e lucratividade.\\n\\n#### 5. Contexto Macroeconômico\\nO Brasil enfrenta um cenário econômico desafiador, com inflação ainda alta e incertezas políticas. No entanto, a demanda por energia continua forte, e a Petrobras pode se beneficiar de um mercado interno robusto, especialmente em setores como transporte e indústria.\\n\\n### Recomendação\\n**COMPRA**\\n\\nCom base na análise dos fundamentos, valuation atrativo, dividend yield elevado e o contexto de preços de petróleo estáveis, a Petrobras (PETR4) apresenta uma oportunidade de investimento favorável no atual cenário. Contudo, os investidores devem estar cientes dos riscos associados, principalmente em relação à transição energética e à volatilidade política. É recomendável acompanhar de perto as notícias do setor e a evolução das políticas governamentais que podem impactar a empresa.',\n",
              " 'critique': '### Crítica Construtiva à Análise da Oportunidade de Investimento em Petrobras (PETR4)\\n\\nA análise apresentada tem méritos ao destacar os aspectos fundamentais da Petrobras (PETR4), mas há diversas áreas que merecem uma revisão crítica para aprimorar a robustez da recomendação. Vamos explorar os principais pontos:\\n\\n#### 1. Viéses Cognitivos\\n- **Ancoragem**: A análise parece ancorar-se fortemente no P/L de 3,2 e no Dividend Yield de 12% como indicadores isolados de valor. Embora sejam métricas relevantes, uma avaliação mais abrangente que considere múltiplos fatores pode levar a uma conclusão mais equilibrada.\\n- **Confirmação**: A análise tende a focar nas características positivas da Petrobras, como o P/L baixo e o alto dividend yield, sem explorar suficientemente as desvantagens ou riscos associados a esses mesmos indicadores. Isso pode indicar uma busca por informações que confirmem uma visão otimista.\\n- **Otimismo Excessivo**: A recomendação de \"COMPRA\" parece excessivamente otimista, especialmente em um setor sujeito a flutuações significativas e incertezas políticas. Um tom mais cauteloso poderia ser apropriado, considerando as variáveis em jogo.\\n\\n#### 2. Riscos Subestimados ou Não Mencionados\\n- **Mudanças Regulatórias**: A análise menciona questões políticas, mas não detalha os riscos específicos associados a mudanças na regulação do setor de petróleo e gás, como novas leis ambientais que podem impactar operações e custos.\\n- **Condições de Mercado**: A dependência da Petrobras de um ambiente de preços de petróleo estáveis pode ser exagerada. Riscos de mercado, como guerras, desastres naturais e novas descobertas de petróleo em outras regiões, não foram suficientemente abordados.\\n- **Endividamento**: A análise não menciona o nível de endividamento da Petrobras, que pode ser um fator crítico em períodos de baixa na receita.\\n\\n#### 3. Premissas Questionáveis ou Não Testadas\\n- **Estabilidade dos Preços do Petróleo**: A suposição de que os preços do petróleo permanecerão estáveis é uma simplificação. A análise não aborda cenários adversos em que os preços poderiam cair significativamente, afetando a rentabilidade da Petrobras.\\n- **Transição Energética**: A análise menciona a transição energética, mas não quantifica como isso pode impactar a demanda por petróleo em termos de projeções futuras. A falta de dados ou estudos que sustentem a análise diminui a credibilidade das premissas.\\n\\n#### 4. Cenários Adversos Ignorados\\n- **Impacto de Crises Geopolíticas**: A análise não considera cenários de crises geopolíticas que podem afetar o preço do petróleo ou a operação da Petrobras, como tensões no Oriente Médio ou sanções econômicas.\\n- **Mudanças na Demanda Global**: O impacto de uma possível recessão global ou mudanças nas políticas de consumo, especialmente em grandes economias que estão investindo em energias renováveis, não foi discutido.\\n\\n#### 5. Pontos Fracos na Análise\\n- **Falta de Diversificação de Análise**: A análise depende fortemente de indicadores financeiros sem considerar outras métricas de performance, como crescimento de receita, fluxo de caixa livre e comparações com concorrentes diretos.\\n- **Visão Limitada do Impacto Macroeconômico**: Embora o contexto econômico do Brasil seja mencionado, a análise não faz uma ligação clara entre esses fatores e a performance da Petrobras, limitando a compreensão do impacto macroeconômico em suas operações.\\n\\n### Conclusão\\nA análise apresenta um panorama interessante sobre a Petrobras, mas carece de uma abordagem mais crítica e abrangente. Uma recomendação de \"COMPRA\" deve ser sustentada por uma análise mais profunda dos riscos e das premissas subjacentes. Considerar cenários adversos, diversificar indicadores e fazer uma análise mais cautelosa em relação a fatores políticos e macroeconômicos pode proporcionar uma visão mais equilibrada e realista para os investidores.',\n",
              " 'improved_answer': '### Análise Aprimorada da Oportunidade de Investimento em Petrobras (PETR4)\\n\\n#### 1. Contexto Geral\\nA Petrobras (PETR4) é uma das principais empresas do setor de petróleo e gás no Brasil, enfrentando um ambiente de preços de petróleo estáveis e a crescente pressão da transição energética global. Esta análise vai além dos indicadores financeiros, incorporando uma avaliação de cenários, riscos quantificados e métricas relevantes que impactam a decisão de investimento.\\n\\n#### 2. Fundamentais da Petrobras\\n- **P/L (Preço sobre Lucro)**: 3,2\\n  - Um P/L tão baixo sugere que a empresa está subavaliada. Contudo, é crucial avaliar a sustentabilidade do lucro e a estrutura de capital da empresa.\\n  \\n- **Dividend Yield**: 12%\\n  - Um dividend yield elevado é atrativo, mas é necessário investigar se essa política de dividendos é sustentável a longo prazo, especialmente em um cenário de transição energética.\\n\\n#### 3. Análise de Cenários\\n- **Cenário Otimista**:\\n  - Supondo que os preços do petróleo permaneçam em níveis elevados (acima de R$ 80 por barril) e que a Petrobras continue a aumentar sua eficiência operacional, os lucros podem crescer 15% ao ano. A ação poderia atingir R$ 50, refletindo uma valorização de 30% e um dividend yield de 12%, ainda atrativo.\\n\\n- **Cenário Base**:\\n  - Com preços de petróleo estáveis em torno de R$ 70 por barril e uma melhoria moderada na eficiência, a Petrobras deve manter seus lucros estáveis. Neste cenário, o preço das ações poderia permanecer próximo a R$ 38,50, com dividend yield consistente de 12%.\\n\\n- **Cenário Pessimista**:\\n  - Se ocorrer uma desaceleração econômica global que leve os preços do petróleo a cair para R$ 50 por barril, a rentabilidade da Petrobras poderá ser severamente impactada, resultando em uma queda no preço das ações para cerca de R$ 30, refletindo uma perda de 22%. O dividend yield poderia cair para 10%, impactando negativamente a atratividade do ativo.\\n\\n#### 4. Riscos Identificados e Quantificados\\n- **Transição Energética**:\\n  - A transição para energias renováveis pode reduzir a demanda por petróleo em até 20% nos próximos 10 anos, conforme projeções da Agência Internacional de Energia (AIE). Esse fator representa um risco significativo à longo prazo.\\n\\n- **Dependência de Preços do Petróleo**:\\n  - Uma variação de 10% nos preços do petróleo impactaria diretamente os lucros da Petrobras em aproximadamente 15%, dada a sua estrutura de custos e a sensibilidade da receita.\\n\\n- **Questões Políticas e Regulatórias**:\\n  - A Petrobras enfrenta riscos relacionados a mudanças políticas que podem afetar sua operação. Estima-se que uma nova regulação ambiental poderia aumentar custos em até 30%, impactando a margem de lucro.\\n\\n- **Endividamento**:\\n  - A empresa possui uma dívida líquida equivalente a 3 vezes seu EBITDA. Em um cenário adverso, isso pode limitar sua capacidade de investimento e pagamento de dividendos.\\n\\n#### 5. Métricas e Níveis de Preço Relevantes\\n- **Múltiplo EV/EBITDA**: Atualmente em 5,8, o que é baixo em comparação com a média do setor, sugerindo potencial de valorização.\\n- **Fluxo de Caixa Livre**: A projeção de um fluxo de caixa livre positivo de R$ 30 bilhões nos próximos anos reforça a capacidade de pagar dividendos.\\n- **Ponto de Equilíbrio**: A Petrobras precisa que os preços do petróleo fiquem acima de R$ 45 por barril para cobrir suas despesas operacionais e de investimento.\\n\\n### Recomendação\\n**MANTER**\\n\\nDada a análise refinada, a recomendação é de \"MANTER\" as ações da Petrobras (PETR4). Embora os fundamentos da empresa sejam atraentes, o cenário de incerteza política, a transição energética e a dependência dos preços do petróleo criam riscos significativos que devem ser monitorados. A manutenção da posição oferece a oportunidade de colher dividendos elevados enquanto se observa a evolução do cenário macroeconômico e setorial. Recomenda-se uma vigilância contínua sobre os preços do petróleo e as políticas governamentais que podem impactar a operação da empresa.'}"
            ]
          },
          "metadata": {},
          "execution_count": 19
        }
      ]
    },
    {
      "cell_type": "markdown",
      "source": [
        "## **Self Consistency**\n",
        "Melhora a confiabilidade das respostas de LLMs através de múltiplas gerações e agregação.\n",
        "\n",
        "### Objetivo da Self-Consistency:\n",
        "\n",
        "Ao gerar múltiplas respostas independentes:\n",
        "- Identifica padrões consistentes (pontos que aparecem em várias análises)\n",
        "- Detecta outliers ou raciocínios questionáveis\n",
        "- Aumenta confiança em conclusões que emergem repetidamente\n",
        "- Revela nuances e perspectivas diferentes sobre o mesmo problema"
      ],
      "metadata": {
        "id": "AaS-IcuWRRN7"
      }
    },
    {
      "cell_type": "code",
      "source": [
        "question=\"\"\"\n",
        "Um investidor deseja alocar 10% do portfólio em Bitcoin.\n",
        "\n",
        "Dados:\n",
        "- Patrimônio: R$ 500.000\n",
        "- Perfil: Moderado\n",
        "- Horizonte: 5 anos\n",
        "- Já possui: 60% renda fixa, 30% ações\n",
        "\n",
        "Esta alocação é adequada?\"\"\"\n",
        "\n",
        "num_samples=3"
      ],
      "metadata": {
        "id": "dJeUmjsdY_jO"
      },
      "execution_count": 20,
      "outputs": []
    },
    {
      "cell_type": "markdown",
      "source": [
        "##**Criação dos prompts**\n",
        "- Analise financeira\n",
        "- Agregação de respostas"
      ],
      "metadata": {
        "id": "fvrf67hrRMXB"
      }
    },
    {
      "cell_type": "code",
      "source": [
        "cot_prompt = ChatPromptTemplate.from_messages([\n",
        "    (\"system\", \"\"\"Você é um analista financeiro. Analise a questão passo a passo:\n",
        "\n",
        "    1. Identifique as variáveis relevantes\n",
        "    2. Considere os dados disponíveis\n",
        "    3. Aplique raciocínio lógico e quantitativo\n",
        "    4. Avalie riscos e oportunidades\n",
        "    5. Chegue a uma conclusão fundamentada\n",
        "\n",
        "    Pense em voz alta e mostre seu raciocínio.\n",
        "    No final, forneça sua resposta final após 'RESPOSTA FINAL:'.\"\"\"),\n",
        "    (\"human\", \"{question}\")\n",
        "])\n",
        "\n",
        "aggregation_prompt = ChatPromptTemplate.from_messages([\n",
        "    (\"system\", \"\"\"Você é um comitê de investimentos analisando múltiplas opiniões.\n",
        "    Identifique:\n",
        "    - Pontos de consenso entre as análises\n",
        "    - Divergências importantes\n",
        "    - A conclusão mais robusta e fundamentada\n",
        "    - Nível de confiança na recomendação\n",
        "\n",
        "    Forneça a decisão final consolidada.\"\"\"),\n",
        "    (\"human\", \"Pergunta: {question}\\n\\nRespostas geradas:\\n{responses}\\n\\nQual é a resposta mais consistente e por quê?\")\n",
        "])"
      ],
      "metadata": {
        "id": "61IWPcsCRR_a"
      },
      "execution_count": 21,
      "outputs": []
    },
    {
      "cell_type": "markdown",
      "source": [
        "##**Geração de respostas distintas**\n",
        "\n",
        "\n",
        "Este código implementa a técnica **Self-Consistency**, que melhora a confiabilidade das respostas de LLMs através de múltiplas gerações e agregação.\n",
        "\n",
        "### Funcionamento Macro:\n",
        "\n",
        "**1. Geração de Múltiplas Respostas Diversas**\n",
        "- Executa um loop gerando `num_samples` respostas diferentes\n",
        "- Cada iteração usa uma temperatura crescente (0.7, 0.8, 0.9...)\n",
        "- Temperaturas diferentes = raciocínios diversos para a mesma pergunta\n",
        "\n",
        "**2. Por que Variar a Temperatura?**\n",
        "- Temperatura mais baixa (0.7): respostas mais conservadoras e focadas\n",
        "- Temperatura mais alta (0.9+): respostas mais criativas e exploratórias\n",
        "- Isso garante diversidade nos caminhos de raciocínio (CoT - Chain of Thought)\n",
        "\n",
        "**3. Agregação das Respostas**\n",
        "- Todas as respostas são coletadas em uma lista\n",
        "- São formatadas e concatenadas com separadores visuais (`---`)\n",
        "- Cada análise é numerada para fácil referência"
      ],
      "metadata": {
        "id": "d3mxB9vPRHkY"
      }
    },
    {
      "cell_type": "code",
      "source": [
        "responses = []\n",
        "for i in range(num_samples):\n",
        "    temp_llm = ChatOpenAI(\n",
        "        model=\"gpt-4o-mini\",\n",
        "        temperature=0.7 + (i * 0.1),\n",
        "    )\n",
        "    chain = cot_prompt | temp_llm\n",
        "    response = chain.invoke({\"question\": question})\n",
        "    responses.append(response.content)\n",
        "\n",
        "formatted_responses = \"\\n\\n---\\n\\n\".join([\n",
        "    f\"Análise {i+1}:\\n{resp}\" for i, resp in enumerate(responses)\n",
        "])"
      ],
      "metadata": {
        "id": "wOTAecdnQjfn"
      },
      "execution_count": 22,
      "outputs": []
    },
    {
      "cell_type": "markdown",
      "source": [
        "## Agregação e Síntese das Respostas (Self-Consistency)\n",
        "\n",
        "Este código implementa a **fase de agregação** da técnica Self-Consistency, onde múltiplas respostas são sintetizadas em uma resposta final consolidada.\n",
        "\n",
        "### Funcionamento Macro:\n",
        "\n",
        "**1. Criação da Chain de Agregação**\n",
        "- Combina um prompt especializado (`aggregation_prompt`) com o LLM\n",
        "- Este prompt instrui o modelo a analisar e sintetizar múltiplas respostas\n",
        "- Usa LCEL (LangChain Expression Language) com o operador `|`\n",
        "\n",
        "**2. Invocação da Síntese**\n",
        "- Passa a pergunta original e todas as respostas formatadas para o LLM\n",
        "- O modelo atua como um \"juiz\" ou \"sintetizador\"\n",
        "- Identifica padrões consistentes, pontos divergentes e gera uma resposta unificada\n",
        "\n",
        "**3. Output Estruturado**\n",
        "- Apresenta a pergunta original para contexto\n",
        "- Mantém todas as respostas individuais para rastreabilidade\n",
        "- Inclui a resposta final sintetizada (produto da agregação)\n",
        "- Documenta quantas amostras foram usadas na análise"
      ],
      "metadata": {
        "id": "cMXEsZ_oRLC2"
      }
    },
    {
      "cell_type": "code",
      "source": [
        "aggregation_chain = aggregation_prompt | llm\n",
        "\n",
        "final_answer = aggregation_chain.invoke({\n",
        "    \"question\": question,\n",
        "    \"responses\": formatted_responses\n",
        "}).content\n",
        "\n",
        "print({\n",
        "    \"question\": question,\n",
        "    \"individual_responses\": responses,\n",
        "    \"final_answer\": final_answer,\n",
        "    \"num_samples\": num_samples\n",
        "})"
      ],
      "metadata": {
        "colab": {
          "base_uri": "https://localhost:8080/"
        },
        "id": "nKUnWkQiQda5",
        "outputId": "9468d336-0b89-47ef-bdd8-a2dd32bdfc8b"
      },
      "execution_count": 23,
      "outputs": [
        {
          "output_type": "stream",
          "name": "stdout",
          "text": [
            "{'question': '\\nUm investidor deseja alocar 10% do portfólio em Bitcoin.\\n\\nDados:\\n- Patrimônio: R$ 500.000\\n- Perfil: Moderado\\n- Horizonte: 5 anos\\n- Já possui: 60% renda fixa, 30% ações\\n\\nEsta alocação é adequada?', 'individual_responses': ['Vamos analisar a situação passo a passo.\\n\\n### 1. Identifique as variáveis relevantes\\n- **Patrimônio Total:** R$ 500.000\\n- **Porcentagem a ser alocada em Bitcoin:** 10%\\n- **Perfil do investidor:** Moderado\\n- **Horizonte de investimento:** 5 anos\\n- **Ativos já existentes:**\\n  - Renda fixa: 60%\\n  - Ações: 30%\\n  \\n### 2. Considere os dados disponíveis\\n- **Valor a ser investido em Bitcoin:** 10% de R$ 500.000 = R$ 50.000\\n- **Distribuição atual do portfólio:**\\n  - Renda fixa: R$ 300.000 (60%)\\n  - Ações: R$ 150.000 (30%)\\n  - Bitcoin (proposto): R$ 50.000 (10%)\\n\\n### 3. Aplique raciocínio lógico e quantitativo\\nCom a alocação proposta, o investidor teria:\\n- 60% em renda fixa, o que é consistente com um perfil moderado, já que a renda fixa tende a ser menos volátil e mais segura.\\n- 30% em ações, que oferecem potencial de crescimento, embora com maior risco.\\n- 10% em Bitcoin, que é um ativo de alta volatilidade e risco, mas que também pode oferecer altas retornos no longo prazo.\\n\\nÉ importante considerar que o Bitcoin e outras criptomoedas são considerados ativos de risco elevado. A alocação de 10% em Bitcoin pode ser vista como uma forma de diversificação, mas também pode trazer riscos significativos, especialmente em um horizonte de 5 anos, onde a volatilidade desse ativo pode impactar o portfólio.\\n\\n### 4. Avalie riscos e oportunidades\\n#### Riscos:\\n- A volatilidade do Bitcoin pode levar a flutuações significativas no valor investido, o que pode impactar negativamente o portfólio total.\\n- O Bitcoin é um ativo relativamente novo e pode estar sujeito a regulamentações e mudanças no mercado que podem afetar seu preço.\\n\\n#### Oportunidades:\\n- O Bitcoin tem um histórico de valorização acentuada em certos períodos, o que poderia proporcionar um aumento significativo no valor do investimento.\\n- Uma alocação de 10% pode ser uma forma de o investidor se expor ao mercado de criptomoedas sem comprometer excessivamente seu portfólio.\\n\\n### 5. Chegue a uma conclusão fundamentada\\nCom base na análise, a alocação de 10% do portfólio em Bitcoin pode ser considerada adequada para um investidor com perfil moderado e um horizonte de 5 anos, desde que esteja ciente dos riscos associados e disposto a tolerar a volatilidade. Essa alocação permite diversificação sem comprometer a segurança do portfólio, que ainda é majoritariamente composto por renda fixa e ações.\\n\\nNo entanto, é importante que o investidor mantenha um acompanhamento regular do desempenho do Bitcoin e esteja preparado para ajustar a alocação se necessário, dependendo das condições de mercado.\\n\\nRESPOSTA FINAL: A alocação de 10% do portfólio em Bitcoin é adequada para um investidor moderado com um horizonte de 5 anos, considerando a diversificação e o potencial de retorno, mas com atenção aos riscos envolvidos.', 'Vamos analisar a situação passo a passo.\\n\\n### 1. Identifique as variáveis relevantes\\n- **Patrimônio Total**: R$ 500.000\\n- **Porcentagem a ser alocada em Bitcoin**: 10%\\n- **Perfil do investidor**: Moderado\\n- **Horizonte de investimento**: 5 anos\\n- **Composição atual do portfólio**:\\n  - Renda Fixa: 60%\\n  - Ações: 30%\\n  - Bitcoin: 0% (atualmente)\\n\\n### 2. Considere os dados disponíveis\\n- Com um patrimônio total de R$ 500.000, 10% equivaleria a R$ 50.000 a serem alocados em Bitcoin.\\n- O perfil moderado do investidor sugere uma preferência por segurança e menor volatilidade, buscando um equilíbrio entre crescimento e proteção de capital.\\n- O horizonte de 5 anos pode permitir alguma volatilidade, mas o perfil moderado ainda demanda cautela.\\n\\n### 3. Aplique raciocínio lógico e quantitativo\\n- Investir 10% em um ativo de alta volatilidade como Bitcoin pode ser arriscado, especialmente para um investidor com um perfil moderado. \\n- Considerando que a alocação atual é de 60% em renda fixa e 30% em ações, a inclusão de Bitcoin traria uma nova dimensão de risco ao portfólio, dado que a criptomoeda é conhecida por suas flutuações de preço.\\n- É importante ponderar que um portfólio moderado normalmente mantém uma maior exposição a ativos de renda fixa e um percentual menor em ativos mais voláteis.\\n\\n### 4. Avalie riscos e oportunidades\\n- **Riscos**:\\n  - Volatilidade do Bitcoin: O preço pode sofrer grandes oscilações, o que pode comprometer o patrimônio em momentos de queda acentuada do mercado.\\n  - Incerteza regulatória e mudanças no mercado de criptomoedas.\\n  \\n- **Oportunidades**:\\n  - Potencial de valorização: O Bitcoin tem mostrado um crescimento substancial ao longo dos anos, atraindo investidores que buscam diversificação.\\n  - A alocação em Bitcoin poderia melhorar a performance do portfólio se o ativo continuar a se valorizar.\\n\\n### 5. Chegue a uma conclusão fundamentada\\nDado o perfil moderado do investidor e a composição atual do portfólio, alocar 10% em Bitcoin pode ser considerado excessivo. Para um investidor moderado, uma alocação menor poderia ser mais apropriada, como 5% ou até mesmo 2-3%, de forma a mitigar os riscos associados à alta volatilidade dessa criptomoeda. Isso permitiria uma certa exposição ao ativo, mas ainda preservando a segurança que um investidor moderado busca em seu portfólio.\\n\\n**RESPOSTA FINAL:** A alocação de 10% do portfólio em Bitcoin não é adequada para um investidor moderado. Uma alocação mais prudente seria entre 2% a 5%, para equilibrar risco e retorno.', 'Vamos analisar a situação passo a passo:\\n\\n1. **Identifique as variáveis relevantes**:\\n   - **Patrimônio total**: R$ 500.000\\n   - **Porcentagem a ser alocada em Bitcoin**: 10%\\n   - **Perfil do investidor**: Moderado\\n   - **Horizonte de investimento**: 5 anos\\n   - **Distribuição atual do portfólio**: 60% em renda fixa, 30% em ações\\n\\n2. **Considere os dados disponíveis**:\\n   - O investidor está considerando alocar R$ 50.000 (10% de R$ 500.000) em Bitcoin.\\n   - O perfil moderado sugere que o investidor busca um equilíbrio entre risco e retorno.\\n\\n3. **Aplique raciocínio lógico e quantitativo**:\\n   - **Alocação em Bitcoin**: O Bitcoin é um ativo volátil, e essa alocação de 10% pode ser considerada relativamente alta para um investidor com perfil moderado, que geralmente se sente mais confortável com investimentos de menor risco.\\n   - **Portfólio Atual**: Atualmente, o investidor tem 90% de seu portfólio em ativos de renda fixa e ações, que são geralmente mais seguros. A inclusão de 10% em Bitcoin alteraria essa dinâmica, elevando consideravelmente a exposição a ativos de risco. \\n\\n4. **Avalie riscos e oportunidades**:\\n   - **Riscos**: A volatilidade do Bitcoin pode impactar negativamente o portfólio, especialmente no curto prazo, e o investidor pode não estar preparado para flutuações acentuadas de preço.\\n   - **Oportunidades**: O Bitcoin pode oferecer altos retornos em comparação com investimentos tradicionais, mas os riscos devem ser considerados, especialmente em um horizonte de 5 anos.\\n\\n5. **Chegue a uma conclusão fundamentada**:\\n   - Para um investidor de perfil moderado, 10% em Bitcoin representa uma alocação arriscada, pois ele pode não estar confortável com a volatilidade. Uma alocação mais conservadora, como 5% ou até mesmo 2%-3%, poderia ser mais apropriada, permitindo que o investidor participe do mercado de criptomoedas sem expor seu portfólio a um risco excessivo.\\n\\nApós essa análise, considero que a alocação de 10% em Bitcoin para um investidor de perfil moderado pode ser excessiva considerando seu perfil e os tipos de investimentos já existentes em seu portfólio.\\n\\n**RESPOSTA FINAL**: A alocação de 10% em Bitcoin não é adequada para um investidor de perfil moderado; uma alocação menor, como 5% ou 2%-3%, seria mais apropriada.'], 'final_answer': '### Pontos de Consenso entre as Análises\\n\\n1. **Cálculo da Alocação**: Todas as análises concordam que alocar 10% do portfólio (R$ 50.000) em Bitcoin é a proposta inicial.\\n2. **Perfil Moderado e Horizonte de 5 Anos**: As análises reconhecem que o investidor tem um perfil moderado e um horizonte de investimento de 5 anos.\\n3. **Volatilidade do Bitcoin**: Existe um consenso sobre a volatilidade do Bitcoin e o risco associado a essa classe de ativo.\\n4. **Diversificação**: As análises consideram que a alocação em Bitcoin poderia oferecer uma forma de diversificação ao portfólio.\\n\\n### Divergências Importantes\\n\\n1. **Adequação da Alocação de 10%**: \\n   - Análise 1 considera a alocação de 10% como adequada, argumentando que ainda se mantém uma base sólida em renda fixa e ações, e que a diversificação é benéfica.\\n   - Análises 2 e 3 argumentam que 10% é excessivo para um investidor moderado e sugerem uma alocação mais conservadora (2% a 5%).\\n\\n2. **Recomendação de Percentuais**: \\n   - Enquanto a Análise 1 não sugere um percentual específico alternativo, a Análise 2 recomenda 2% a 5%, e a Análise 3 também sugere 5% ou 2%-3%.\\n\\n### Conclusão Mais Robusta e Fundamentada\\n\\nA conclusão mais robusta é que, dado o perfil moderado do investidor e a necessidade de segurança e estabilidade, uma alocação de 10% em Bitcoin pode ser considerada excessiva. As análises que propuseram alocações mais conservadoras (2% a 5%) refletem um entendimento mais alinhado com o perfil do investidor e seu horizonte de investimento. \\n\\n### Nível de Confiança na Recomendação\\n\\nCom base nas análises, o nível de confiança na recomendação de uma alocação mais conservadora é alto, uma vez que considera tanto os riscos associados à volatilidade do Bitcoin quanto o perfil do investidor.\\n\\n### Decisão Final Consolidada\\n\\n**A alocação de 10% do portfólio em Bitcoin não é adequada para um investidor moderado. Uma alocação mais prudente entre 2% a 5% é recomendada, a fim de equilibrar risco e retorno, permitindo alguma exposição a ativos de criptomoedas sem comprometer a segurança do portfólio.**', 'num_samples': 3}\n"
          ]
        }
      ]
    },
    {
      "cell_type": "markdown",
      "source": [
        "## **Reflexion + Self Consistency**"
      ],
      "metadata": {
        "id": "QF_O0zRDRSVW"
      }
    },
    {
      "cell_type": "code",
      "source": [
        "\n",
        "def reflexion(\n",
        "        question: str,\n",
        "        domain: str=\"mercado financeiro\"\n",
        "        ) -> dict:\n",
        "    generation_prompt = ChatPromptTemplate.from_messages([\n",
        "        (\"system\", f\"\"\"Você é um analista financeiro sênior especializado em {domain}.\n",
        "        Sua análise deve ser fundamentada, objetiva e baseada em dados.\n",
        "        Considere sempre fundamentos, valuation, riscos e contexto macroeconômico.\"\"\"),\n",
        "        (\"human\", \"{question}\")\n",
        "    ])\n",
        "\n",
        "    initial_chain = generation_prompt | llm\n",
        "    initial_answer = initial_chain.invoke({\"question\": question}).content\n",
        "\n",
        "    reflection_prompt = ChatPromptTemplate.from_messages([\n",
        "        (\"system\", \"\"\"Você é um gestor de risco rigoroso fazendo \"Red Team\" da análise abaixo.\n",
        "        Identifique:\n",
        "        - Vieses cognitivos (ancoragem, confirmação, otimismo excessivo)\n",
        "        - Riscos subestimados ou não mencionados\n",
        "        - Premissas questionáveis ou não testadas\n",
        "        - Cenários adversos ignorados\n",
        "        - Pontos fracos na análise\n",
        "\n",
        "        Seja crítico mas construtivo.\"\"\"),\n",
        "        (\"human\", \"Pergunta: {question}\\n\\nResposta: {answer}\\n\\nForneça uma crítica construtiva:\")\n",
        "    ])\n",
        "\n",
        "    reflection_chain = reflection_prompt | llm\n",
        "    critique = reflection_chain.invoke({\n",
        "        \"question\": question,\n",
        "        \"answer\": initial_answer\n",
        "    }).content\n",
        "\n",
        "    improvement_prompt = ChatPromptTemplate.from_messages([\n",
        "        (\"system\", \"\"\"Você é um Chief Investment Officer (CIO) experiente.\n",
        "        Melhore a análise original considerando a crítica recebida.\n",
        "\n",
        "        Sua análise refinada deve incluir:\n",
        "        - Análise de cenários (otimista/base/pessimista)\n",
        "        - Riscos claramente identificados e quantificados\n",
        "        - Recomendação com justificativa robusta\n",
        "        - Métricas e níveis de preço relevantes\"\"\"),\n",
        "        (\"human\", \"Pergunta: {question}\\n\\nResposta Original: {answer}\\n\\nCrítica: {critique}\\n\\nForneça uma resposta melhorada:\")\n",
        "    ])\n",
        "\n",
        "    improvement_chain = improvement_prompt | llm\n",
        "    improved_answer = improvement_chain.invoke({\n",
        "        \"question\": question,\n",
        "        \"answer\": initial_answer,\n",
        "        \"critique\": critique\n",
        "    }).content\n",
        "\n",
        "    return {\n",
        "        \"question\": question,\n",
        "        \"initial_answer\": initial_answer,\n",
        "        \"critique\": critique,\n",
        "        \"improved_answer\": improved_answer\n",
        "    }\n",
        "\n",
        "\n",
        "def self_consistency(\n",
        "        question: str,\n",
        "        num_samples: int=5\n",
        "        ) -> dict:\n",
        "    cot_prompt = ChatPromptTemplate.from_messages([\n",
        "        (\"system\", \"\"\"Você é um analista financeiro. Analise a questão passo a passo:\n",
        "\n",
        "        1. Identifique as variáveis relevantes\n",
        "        2. Considere os dados disponíveis\n",
        "        3. Aplique raciocínio lógico e quantitativo\n",
        "        4. Avalie riscos e oportunidades\n",
        "        5. Chegue a uma conclusão fundamentada\n",
        "\n",
        "        Pense em voz alta e mostre seu raciocínio.\n",
        "        No final, forneça sua resposta final após 'RESPOSTA FINAL:'.\"\"\"),\n",
        "        (\"human\", \"{question}\")\n",
        "    ])\n",
        "\n",
        "    responses = []\n",
        "    for i in range(num_samples):\n",
        "        temp_llm = ChatOpenAI(\n",
        "            model=\"gpt-4o-mini\",\n",
        "            temperature=0.7 + (i * 0.1),\n",
        "            api_key=os.getenv(\"OPENAI_API_KEY\")\n",
        "        )\n",
        "        chain = cot_prompt | temp_llm\n",
        "        response = chain.invoke({\"question\": question})\n",
        "        responses.append(response.content)\n",
        "\n",
        "    formatted_responses = \"\\n\\n---\\n\\n\".join([\n",
        "        f\"Análise {i+1}:\\n{resp}\" for i, resp in enumerate(responses)\n",
        "    ])\n",
        "\n",
        "    aggregation_prompt = ChatPromptTemplate.from_messages([\n",
        "        (\"system\", \"\"\"Você é um comitê de investimentos analisando múltiplas opiniões.\n",
        "        Identifique:\n",
        "        - Pontos de consenso entre as análises\n",
        "        - Divergências importantes\n",
        "        - A conclusão mais robusta e fundamentada\n",
        "        - Nível de confiança na recomendação\n",
        "\n",
        "        Forneça a decisão final consolidada.\"\"\"),\n",
        "        (\"human\", \"Pergunta: {question}\\n\\nRespostas geradas:\\n{responses}\\n\\nQual é a resposta mais consistente e por quê?\")\n",
        "    ])\n",
        "\n",
        "    aggregation_chain = aggregation_prompt | llm\n",
        "    final_answer = aggregation_chain.invoke({\n",
        "        \"question\": question,\n",
        "        \"responses\": formatted_responses\n",
        "    }).content\n",
        "\n",
        "    return {\n",
        "        \"question\": question,\n",
        "        \"individual_responses\": responses,\n",
        "        \"final_answer\": final_answer,\n",
        "        \"num_samples\": num_samples\n",
        "    }"
      ],
      "metadata": {
        "id": "9ESshvBPXvh0"
      },
      "execution_count": 24,
      "outputs": []
    },
    {
      "cell_type": "code",
      "source": [
        "question=\"\"\"Valide esta estratégia de day trade no mini-índice (WIN):\n",
        "\n",
        "- Operar 10h-16h\n",
        "- Rompimentos de consolidação (30+ min)\n",
        "- Volume 2x acima da média\n",
        "- Stop: 50 pontos | Alvo: 150 pontos\n",
        "- Máximo 3 operações/dia\n",
        "\n",
        "É viável? Principais riscos? Capital mínimo?\"\"\",\n",
        "domain=\"day trade\",\n",
        "num_samples=3\n",
        "\n",
        "sc_result = self_consistency(question, num_samples)\n",
        "reflexion_result = reflexion(question, domain)"
      ],
      "metadata": {
        "id": "OosQlpDxRS3W"
      },
      "execution_count": 25,
      "outputs": []
    },
    {
      "cell_type": "code",
      "source": [
        "{\n",
        "    \"question\": question,\n",
        "    \"self_consistency_samples\": sc_result[\"individual_responses\"],\n",
        "    \"self_consistency_answer\": sc_result[\"final_answer\"],\n",
        "    \"reflexion_critique\": reflexion_result[\"critique\"],\n",
        "    \"final_refined_answer\": reflexion_result[\"improved_answer\"]\n",
        "}"
      ],
      "metadata": {
        "colab": {
          "base_uri": "https://localhost:8080/"
        },
        "id": "8fJBV0XZRUFA",
        "outputId": "ee3b3cfc-4cb9-4a2f-b4c8-ecb654bea94f"
      },
      "execution_count": 26,
      "outputs": [
        {
          "output_type": "execute_result",
          "data": {
            "text/plain": [
              "{'question': ('Valide esta estratégia de day trade no mini-índice (WIN):\\n\\n- Operar 10h-16h\\n- Rompimentos de consolidação (30+ min)\\n- Volume 2x acima da média\\n- Stop: 50 pontos | Alvo: 150 pontos\\n- Máximo 3 operações/dia\\n\\nÉ viável? Principais riscos? Capital mínimo?',),\n",
              " 'self_consistency_samples': ['Vamos analisar a estratégia de day trade no mini-índice (WIN) passo a passo.\\n\\n1. **Identifique as variáveis relevantes**:\\n   - **Horário de operação**: 10h-16h\\n   - **Critério de entrada**: Rompimentos de consolidação com duração de 30 minutos ou mais\\n   - **Volume**: Deve ser 2x acima da média\\n   - **Gestão de riscos**: Stop de 50 pontos e alvo de 150 pontos\\n   - **Limite de operações**: Máximo de 3 operações por dia\\n\\n2. **Considere os dados disponíveis**:\\n   - O mini-índice (WIN) é conhecido por sua volatilidade, o que pode ser favorável para estratégias de day trade.\\n   - O horário de operação escolhido é compreensível, pois geralmente há maior liquidez e volatilidade entre 10h e 16h.\\n   - Rompimentos de consolidação podem ser indicadores de movimentos significativos no preço.\\n   - O volume 2x acima da média é um bom sinal de que há interesse no ativo, o que geralmente precede movimentos significativos.\\n\\n3. **Aplique raciocínio lógico e quantitativo**:\\n   - O stop de 50 pontos em relação ao alvo de 150 pontos implica uma relação risco/recompensa de 1:3. Isso é positivo, pois, para cada perda, você pode potencialmente ganhar três vezes mais.\\n   - Considerando um cenário em que você consiga realizar 3 operações com sucesso, mesmo que apenas uma delas atinja o alvo, a estratégia pode ser rentável.\\n   - Precisamos considerar a taxa de acerto necessária. Para ser lucrativo, a taxa de acertos deve ser superior a 25% (já que para cada operação perdida, você precisa que as operações vencedoras cubram as perdas).\\n\\n4. **Avalie riscos e oportunidades**:\\n   - **Riscos**:\\n     - O principal risco é a execução da estratégia em um mercado volátil, onde os rompimentos podem falhar, levando a stop loss frequentes.\\n     - Dependência de volume; se o volume não se mantiver 2x acima da média, pode haver uma falsa impressão de rompimento.\\n     - Limitação de operações pode resultar em oportunidades perdidas em dias de alta volatilidade.\\n   - **Oportunidades**:\\n     - A estratégia pode ser bem-sucedida em dias de tendência definida, onde as consolidações são seguidas por movimentos fortes.\\n     - A relação risco/recompensa favorável pode trazer lucros consistentes se a taxa de acerto for mantida.\\n\\n5. **Chegue a uma conclusão fundamentada**:\\n   - A estratégia de day trade proposta pode ser viável, desde que o trader tenha disciplina para seguir as regras e consiga identificar corretamente os rompimentos de consolidação. É importante também ter um plano de gestão de capital e estar preparado para o risco de perdas. O capital mínimo recomendado deve ser suficiente para cobrir pelo menos 10 stops (5.000 pontos, considerando 50 pontos de stop por operação) e ainda ter uma margem para operar conforme a alavancagem do mini-índice.\\n\\n**RESPOSTA FINAL:** A estratégia de day trade no mini-índice (WIN) é viável, com uma relação risco/recompensa de 1:3. Os principais riscos incluem a volatilidade do mercado e a dependência de volume. O capital mínimo deve cobrir pelo menos 10 stops (5.000 pontos) para operar com segurança.',\n",
              "  'Vamos analisar a estratégia de day trade no mini-índice (WIN) passo a passo.\\n\\n### 1. Identifique as variáveis relevantes\\n- **Horário de operação:** 10h - 16h\\n- **Critério de entrada:** Rompimentos de consolidação (mínimo 30 minutos)\\n- **Critério de volume:** 2x acima da média\\n- **Gestão de risco:** Stop de 50 pontos\\n- **Objetivo de lucro:** Alvo de 150 pontos\\n- **Limite de operações:** No máximo 3 operações por dia\\n\\n### 2. Considere os dados disponíveis\\n- O mini-índice (WIN) é um ativo bastante líquido, o que pode facilitar a execução de ordens.\\n- O horário das 10h às 16h inclui períodos de maior volatilidade, especialmente durante a abertura e o fechamento do mercado, o que pode trazer mais oportunidades de operações.\\n- A média de volume deve ser bem definida, sendo necessário um histórico de pelo menos 30 dias para calcular a média e garantir que o volume esteja realmente acima do normal.\\n- O stop de 50 pontos e o alvo de 150 pontos representa uma relação risco-retorno de 1:3, o que é considerado uma boa prática no day trade.\\n\\n### 3. Aplique raciocínio lógico e quantitativo\\n- Para cada operação, se o stop de 50 pontos for atingido, haverá uma perda, e se o alvo de 150 pontos for atingido, haverá um ganho. \\n- Se considerarmos 3 operações, para calcular a viabilidade, precisamos avaliar a taxa de acerto necessária para que a estratégia seja lucrativa:\\n  - Vamos supor que, para uma operação, você tenha uma taxa de acerto de 33,33% (1 acerto em 3 operações):\\n    - Ganho total: 1 acerto * 150 pontos = 150 pontos\\n    - Perda total: 2 erros * 50 pontos = 100 pontos\\n    - Resultado final = 150 - 100 = 50 pontos de lucro.\\n  - Portanto, essa taxa de acerto é suficiente para cobrir as perdas e ainda gerar lucro.\\n\\n### 4. Avalie riscos e oportunidades\\n- **Riscos:**\\n  - O mercado pode não respeitar os rompimentos esperados, levando a perdas.\\n  - O volume pode não ser um bom indicador em todos os momentos; é crucial acompanhar as notícias e eventos que podem afetar o mercado.\\n  - O risco de slippage, que é a diferença entre o preço esperado de uma operação e o preço real em que a operação é executada, pode impactar resultados.\\n  \\n- **Oportunidades:**\\n  - O trade pode ser otimizado com a análise de outros indicadores técnicos além do volume.\\n  - Há a possibilidade de adaptação da estratégia conforme o comportamento do mercado e as condições econômicas.\\n\\n### 5. Chegue a uma conclusão fundamentada\\nBaseando-se nos dados e análises acima, a estratégia de day trade no mini-índice (WIN) parece viável, desde que sejam seguidas as regras estabelecidas e que haja disciplina na execução da estratégia. Um capital mínimo deve ser considerado para suportar um número razoável de operações e gestão de risco. Por exemplo, se cada ponto no mini-índice representa R$ 0,20, um capital mínimo de aproximadamente R$ 5.000 a R$ 10.000 pode ser adequado para operar com segurança, considerando os stops e a quantidade de operações.\\n\\nRESPOSTA FINAL: A estratégia de day trade no mini-índice (WIN) é viável, mas apresenta riscos que devem ser monitorados. Um capital mínimo recomendado seria entre R$ 5.000 e R$ 10.000, dependendo do perfil de risco do trader.',\n",
              "  'Vamos analisar a estratégia de day trade proposta para o mini-índice (WIN) passo a passo.\\n\\n### 1. Identificação das variáveis relevantes\\n- **Horário de operação:** 10h-16h\\n- **Tipo de operação:** Rompimentos de consolidação de 30 minutos ou mais\\n- **Critério de volume:** 2x a média de volume\\n- **Stop:** 50 pontos\\n- **Alvo:** 150 pontos\\n- **Limitação de operações:** Máximo de 3 operações por dia\\n\\n### 2. Dados disponíveis\\nPara validar essa estratégia, precisamos considerar dados históricos do mini-índice, como:\\n- O comportamento do preço durante o horário de operação (10h-16h).\\n- As taxas de sucesso em rompimentos de consolidação de 30 minutos com volume acima da média.\\n- A média de pontos que o mini-índice costuma variar em um dia de pregão.\\n- O histórico de volatilidade e impacto de notícias nesse período.\\n\\n### 3. Raciocínio lógico e quantitativo\\n- **Rompimentos de consolidação:** Historicamente, rompimentos de consolidação podem ser oportunidades de trading, mas dependem da robustez da consolidação e da força do volume. Dados indicam que rompimentos com volume significativo tendem a ter maior sucesso.\\n  \\n- **Risco/Recompensa:** Você está arriscando 50 pontos para tentar ganhar 150 pontos. Isso resulta em uma relação de risco-recompensa de 1:3, que é considerada boa no trading, pois um trader precisa ser bem-sucedido em apenas 25% das operações para ser lucrativo.\\n\\n- **Limitações de operações:** Operar no máximo 3 vezes por dia pode ajudar a evitar overtrading, mas isso também significa que você depende de dias em que as condições de mercado estejam favoráveis.\\n\\n### 4. Avaliação de riscos e oportunidades\\n- **Riscos:**\\n  - **Falsos rompimentos:** O maior risco em operar rompimentos é que o preço pode romper e voltar, levando a um stop loss.\\n  - **Volatilidade:** O mini-índice pode ser afetado por eventos econômicos, que podem gerar movimentos inesperados.\\n  - **Custo de corretagem:** Cada operação tem custos que podem corroer os lucros, especialmente em uma estratégia de day trade.\\n\\n- **Oportunidades:**\\n  - **Alta potencial de lucro:** Com uma boa gestão de risco e disciplina, a estratégia pode ser lucrativa devido à relação risco-recompensa.\\n  - **Condicionamento de mercado:** Se o mercado estiver em uma tendência forte, rompimentos podem trazer mais oportunidades.\\n\\n### 5. Conclusão fundamentada\\nA estratégia de day trade no mini-índice (WIN) apresentada tem potencial para ser viável, especialmente se as condições de mercado forem favoráveis e o volume estiver de acordo com as expectativas. No entanto, é importante realizar backtesting para avaliar a taxa de sucesso histórica da estratégia, bem como considerar a volatilidade e possíveis custos operacionais.\\n\\n#### Capital mínimo\\nPara determinar o capital mínimo necessário, considere o valor do ponto no mini-índice e o stop de 50 pontos. Se cada ponto vale, por exemplo, R$ 1,00, o risco por operação seria R$ 50,00. Para operar com a segurança de não perder todo o capital em algumas operações ruins, recomenda-se ter um capital de pelo menos 10 vezes o risco por operação, ou seja, pelo menos R$ 500,00 apenas para cobrir os stops que podem ocorrer.\\n\\n**RESPOSTA FINAL:** A estratégia é viável, mas deve ser testada com dados históricos para confirmar sua eficácia. Os principais riscos incluem falsos rompimentos e volatilidade, e o capital mínimo sugerido é de pelo menos R$ 500,00, dependendo do valor do ponto do mini-índice.'],\n",
              " 'self_consistency_answer': '### Pontos de Consenso entre as Análises\\n\\n1. **Viabilidade da Estratégia**: Todas as análises concordam que a estratégia de day trade no mini-índice (WIN) é viável, especialmente quando as regras são seguidas com disciplina.\\n2. **Horário de Operação**: O período de 10h às 16h é considerado adequado, pois é conhecido por sua maior liquidez e volatilidade, o que pode favorecer as operações.\\n3. **Relação Risco/Recompensa**: A relação risco/recompensa de 1:3 (stop de 50 pontos para um alvo de 150 pontos) é vista como positiva e favorável para a estratégia.\\n4. **Importância do Volume**: Todas as análises destacam a necessidade de operar com volume 2x acima da média, pois isso é um indicativo de interesse no ativo e pode preceder movimentos significativos no preço.\\n\\n### Divergências Importantes\\n\\n1. **Capital Mínimo**: As análises divergem em relação ao capital mínimo recomendado. Enquanto uma sugere um capital de R$ 5.000 a R$ 10.000, outra menciona que R$ 500,00 poderia ser suficiente, dependendo do valor do ponto, o que pode causar confusão sobre a necessidade de um capital mais robusto para cobrir múltiplas operações.\\n2. **Riscos Considerados**: Embora o risco de falsos rompimentos seja mencionado em todas as análises, a análise 1 enfatiza a necessidade de um plano de gestão de capital, enquanto as outras análises focam mais em aspectos técnicos e de execução.\\n\\n### Conclusão Mais Robusta e Fundamentada\\n\\nA estratégia de day trade no mini-índice (WIN) é viável, especialmente em condições de mercado favoráveis e seguindo rigorosamente as regras estabelecidas. A relação risco/recompensa de 1:3 é atraente, e a definição de critérios para a entrada (rompimentos com volume acima da média) é uma abordagem sólida. Contudo, a execução da estratégia deve ser acompanhada de uma gestão de risco rigorosa e um capital adequado para suportar as operações, onde um capital mínimo de R$ 5.000 a R$ 10.000 é mais apropriado para garantir a segurança e evitar a falência em caso de perdas consecutivas.\\n\\n### Nível de Confiança na Recomendação\\n\\nA confiança na recomendação é alta, principalmente pela robustez da relação risco/recompensa e pela adequação do horário de operação. No entanto, a execução e o sucesso dependem da disciplina do trader e das condições do mercado, o que introduz uma variável de incerteza.\\n\\n### Decisão Final Consolidada\\n\\nA estratégia de day trade no mini-índice (WIN) é viável, com uma relação risco/recompensa de 1:3. Os principais riscos incluem a volatilidade do mercado e a possibilidade de falsos rompimentos. Recomenda-se um capital mínimo de aproximadamente R$ 5.000 a R$ 10.000 para operar com segurança, garantindo que o trader tenha margem suficiente para cobrir perdas potenciais e evitar falências. A disciplina na execução da estratégia e um plano de gestão de risco são essenciais para o sucesso.',\n",
              " 'reflexion_critique': '### Crítica Construtiva da Análise da Estratégia de Day Trade no Mini-Índice (WIN)\\n\\nA análise apresentada contém diversos pontos válidos, mas também apresenta áreas que merecem atenção crítica e melhorias. Vamos explorar cada uma das categorias solicitadas.\\n\\n#### Vieses Cognitivos\\n\\n1. **Ancoragem**:\\n   - A estratégia parece estar ancorada em um conjunto específico de parâmetros (por exemplo, stop de 50 pontos e alvo de 150 pontos) sem considerar a possibilidade de que esses números podem não ser ideais em todas as condições do mercado. Uma abordagem mais flexível poderia levar a melhores resultados.\\n\\n2. **Confirmação**:\\n   - Há uma tendência a validar a estratégia com base em crenças pré-concebidas sobre a eficácia de rompimentos e volume. A análise poderia ter incluído uma revisão mais crítica dos dados históricos para evitar o viés de confirmação.\\n\\n3. **Otimismo Excessivo**:\\n   - A expectativa de uma taxa de acerto de 25% pode ser considerada otimista, especialmente em um ambiente de mercado volátil e incerto. Uma análise mais equilibrada que reconhecesse cenários de baixa performance seria mais realista.\\n\\n#### Riscos Subestimados ou Não Mencionados\\n\\n1. **Risco de Slippage**:\\n   - O impacto do slippage não foi mencionado. Em mercados voláteis, a execução de ordens pode não ocorrer nos preços esperados, especialmente em rompimentos, o que pode afetar significativamente a lucratividade.\\n\\n2. **Desconhecimento do Perfil do Trader**:\\n   - A análise não considera que o perfil do trader (experiência, tolerância ao risco, etc.) pode influenciar a eficácia da estratégia. Traders menos experientes podem não conseguir seguir o plano idealmente.\\n\\n3. **Impacto de News e Eventos Externos**:\\n   - Embora mencionado que eventos macroeconômicos podem impactar o mercado, não foi discutido como esses eventos podem desestabilizar a estratégia em tempo real.\\n\\n#### Premissas Questionáveis ou Não Testadas\\n\\n1. **Taxa de Acerto**:\\n   - A premissa de que a taxa de acerto deve ser de 25% para ser rentável pode não ser testada adequadamente. A análise deveria incluir dados históricos para validar essa taxa em condições reais de mercado.\\n\\n2. **Relação Risco/Recompensa**:\\n   - A suposição de que uma relação de 1:3 é sempre favorável deve ser questionada, pois não leva em conta a variabilidade do mercado e a possibilidade de que a recompensa não se concretize.\\n\\n#### Cenários Adversos Ignorados\\n\\n1. **Mercados em Lateralização**:\\n   - A análise não considera cenários em que o mercado permanece lateralizado por longos períodos, onde a estratégia de rompimento pode falhar repetidamente.\\n\\n2. **Comportamento do Investidor**:\\n   - O impacto das emoções humanas e o efeito de manadas no comportamento do mercado em momentos de grande volatilidade não foram discutidos. Isso pode levar a decisões não racionais que afetam a eficácia da estratégia.\\n\\n#### Pontos Fracos na Análise\\n\\n1. **Falta de Dados Históricos**:\\n   - A análise carece de uma avaliação baseada em dados históricos que pudessem validar a estratégia em diferentes condições de mercado. A falta de backtesting pode levar a conclusões infundadas.\\n\\n2. **Gestão de Capital**:\\n   - Embora tenha sido mencionado o capital mínimo, a discussão sobre a gestão de capital durante a execução da estratégia (como dimensionar as posições) foi superficial e poderia ser mais detalhada.\\n\\n3. **Ajustes da Estratégia**:\\n   - A recomendação de testar a estratégia em uma conta demo é válida, mas a análise deveria incluir orientações específicas sobre como ajustar a estratégia com base nos resultados do teste.\\n\\n### Conclusão\\n\\nA análise da estratégia de day trade no mini-índice é um bom ponto de partida, mas precisa de uma abordagem mais crítica e abrangente. A consideração de vieses cognitivos, riscos adicionais, premissas testadas e cenários adversos é crucial para desenvolver uma estratégia robusta. Incentivar uma mentalidade de testes contínuos e ajustes com base em dados reais pode melhorar significativamente as chances de sucesso no day trading.',\n",
              " 'final_refined_answer': '### Análise Refinada da Estratégia de Day Trade no Mini-Índice (WIN)\\n\\nA estratégia de day trade no mini-índice (WIN) proposta apresenta alguns conceitos válidos, mas é crucial aprofundar a análise para garantir sua viabilidade e robustez. Abaixo, apresento uma análise abrangente que inclui cenários, identificação de riscos, recomendações e métricas relevantes.\\n\\n### Cenários de Performance\\n\\n#### Cenário Otimista\\n- **Taxa de Acerto**: 50% ou mais.\\n- **Performance**: O trader consegue identificar rompimentos reais e se beneficia da volatilidade do mercado.\\n- **Resultados**: 3 operações bem-sucedidas em um dia típico, resultando em um lucro médio de 450 pontos (150 pontos por operação). \\n- **Lucro Diário**: 450 pontos x R$0,20 (valor do ponto no WIN) = R$90,00.\\n\\n#### Cenário Base\\n- **Taxa de Acerto**: 35%.\\n- **Performance**: O trader identifica alguns rompimentos, mas também enfrenta falsos sinais.\\n- **Resultados**: 2 operações bem-sucedidas e 1 operação com perda. Lucro total: 2 x 150 pontos - 50 pontos (stop) = 250 pontos.\\n- **Lucro Diário**: 250 pontos x R$0,20 = R$50,00.\\n\\n#### Cenário Pessimista\\n- **Taxa de Acerto**: 20% ou menos.\\n- **Performance**: O trader enfrenta uma série de falsos rompimentos e o mercado se lateraliza.\\n- **Resultados**: 1 operação bem-sucedida e 2 perdas. Lucro total: 150 pontos - 2 x 50 pontos = 50 pontos.\\n- **Lucro Diário**: 50 pontos x R$0,20 = R$10,00.\\n\\n### Identificação e Quantificação de Riscos\\n\\n1. **Falsos Rompimentos**: \\n   - **Impacto**: Pode resultar em perdas rápidas. Estimativa de perdas potenciais de até 150 pontos por operação em um dia.\\n  \\n2. **Risco de Slippage**: \\n   - **Impacto**: Em mercados voláteis, a execução de ordens pode ocorrer a preços desfavoráveis, aumentando a perda média em até 20%.\\n  \\n3. **Volatilidade Externa**: \\n   - **Impacto**: Eventos econômicos podem causar movimentos abruptos. A volatilidade pode elevar o risco em até 50% em dias de anúncios importantes.\\n\\n4. **Aspectos Psicológicos**: \\n   - **Impacto**: Traders inexperientes podem não seguir o plano, levando a decisões impulsivas. O custo emocional pode ser quantificado como perdas adicionais de até 30%.\\n\\n### Recomendação\\n\\n**Justificativa**: A estratégia pode ser viável, mas deve ser ajustada e testada continuamente. Para uma execução mais robusta:\\n\\n- **Backtesting**: Realizar testes em dados históricos para validar a taxa de acerto, refinando o stop e o alvo conforme a volatilidade do mercado.\\n- **Gestão de Capital**: Recomenda-se ter um capital mínimo de pelo menos R$10.000,00, considerando um risco máximo de 2% do capital por operação (R$200,00). Isso permite suportar 4 operações consecutivas com stop.\\n- **Flexibilidade nos Parâmetros**: Ajustar o stop e o alvo com base na volatilidade diária. Por exemplo, em dias de baixa volatilidade, um stop de 30 pontos e um alvo de 90 pontos podem ser mais adequados.\\n\\n### Métricas e Níveis de Preço Relevantes\\n\\n1. **Relação Risco/Recompensa**: Ajustar para 1:2 em ambientes altamente voláteis.\\n2. **Média Móvel**: Usar médias móveis de 20 e 50 períodos para ajudar a identificar tendências de curto prazo.\\n3. **Volume Médio**: Monitorar o volume médio diário e ajustar a operação se o volume não atingir 2x a média nos rompimentos.\\n4. **Indicadores de Sentimento**: Utilizar indicadores como o Índice de Força Relativa (RSI) para verificar se o ativo está sobrecomprado ou sobrevendido.\\n\\n### Conclusão\\n\\nA estratégia de day trade no mini-índice (WIN) pode ser viável, mas exige uma abordagem mais crítica e adaptável. Considerar diferentes cenários de performance, quantificar riscos de forma clara, realizar um backtest rigoroso e ajustar a gestão de capital são passos essenciais para maximizar as chances de sucesso. A disciplina e a capacidade de adaptação são cruciais para um trader que deseja prosperar em um ambiente tão dinâmico e volátil.'}"
            ]
          },
          "metadata": {},
          "execution_count": 26
        }
      ]
    }
  ]
}