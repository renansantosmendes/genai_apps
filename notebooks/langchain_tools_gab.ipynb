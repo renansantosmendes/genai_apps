{
  "nbformat": 4,
  "nbformat_minor": 0,
  "metadata": {
    "colab": {
      "provenance": []
    },
    "kernelspec": {
      "name": "python3",
      "display_name": "Python 3"
    },
    "language_info": {
      "name": "python"
    }
  },
  "cells": [
    {
      "cell_type": "markdown",
      "source": [
        "# **LangChain Tools & Agents - Análise Financeira com Function Calling**\n",
        "\n",
        "**Autor**: Renan Santos Mendes\n",
        "\n",
        "**Email**: renansantosmendes@gmail.com\n",
        "\n",
        "**Descrição**: Este notebook demonstra a criação de **agentes inteligentes** usando LangChain que podem acessar e executar ferramentas customizadas para análise de ações financeiras. Exploramos dois padrões principais:\n",
        "\n",
        "1. **Function Calling direto** - LLM com `bind_tools()` para identificar e sugerir chamadas de ferramentas\n",
        "2. **Agentes ReAct** - Sistemas autônomos que raciocinam, planejam e executam ferramentas automaticamente\n",
        "\n",
        "## 🎯 Objetivos de Aprendizado\n",
        "\n",
        "- Criar ferramentas customizadas com o decorador `@tool`\n",
        "- Vincular ferramentas a LLMs usando `bind_tools()`\n",
        "- Entender o padrão ReAct (Reasoning + Acting)\n",
        "- Construir agentes que tomam decisões sobre qual ferramenta usar\n",
        "- Monitorar execuções com LangSmith\n",
        "\n",
        "## 🛠️ Ferramentas Implementadas\n",
        "\n",
        "- **get_stock_price**: Obtém preço atual e variação percentual\n",
        "- **get_dividend_yield**: Calcula rendimento de dividendos\n",
        "- **get_market_cap**: Retorna valor de mercado em bilhões\n",
        "\n",
        "## 📊 Casos de Uso\n",
        "\n",
        "Perguntas que o agente pode responder automaticamente:\n",
        "- \"Qual o preço da Apple?\"\n",
        "- \"Qual ação tem maior dividend yield: Apple ou Microsoft?\"\n",
        "- \"Qual a capitalização de mercado da Tesla?\""
      ],
      "metadata": {
        "id": "GUBtpnJ521Pz"
      }
    },
    {
      "cell_type": "markdown",
      "source": [
        "## **Instalação dos Pacotes**"
      ],
      "metadata": {
        "id": "nqCYXxebvjsz"
      }
    },
    {
      "cell_type": "code",
      "execution_count": 1,
      "metadata": {
        "id": "zYmBRIFSbm8P"
      },
      "outputs": [],
      "source": [
        "%%capture --no-stderr\n",
        "!pip install langchain langchain-openai langchain-core langchain-community\n",
        "!pip install langsmith langgraph"
      ]
    },
    {
      "cell_type": "markdown",
      "source": [
        "## **Imports dos Pacotes Usados no Notebook**\n",
        "\n",
        "Este conjunto de imports configura um ambiente para criar **agentes de IA conversacionais** usando LangChain e modelos da OpenAI. Inclui ferramentas para\n",
        "- manipulação de arquivos e sistema operacional (`os`),\n",
        "- acesso ao Google Drive e dados do Colab (`google.colab`),\n",
        "- consulta de informações financeiras via Yahoo Finance (`yfinance`),\n",
        "- toda a infraestrutura do LangChain para construir agentes ReAct que podem raciocinar, usar ferramentas customizadas, manter conversas estruturadas e executar ações baseadas em prompts parametrizáveis, com suporte a anotações de tipo para melhor documentação do código."
      ],
      "metadata": {
        "id": "iv-gjmUzvjFU"
      }
    },
    {
      "cell_type": "code",
      "source": [
        "# Standard library imports\n",
        "import os\n",
        "from typing import Dict, List\n",
        "\n",
        "# Third-party imports\n",
        "import yfinance as yf\n",
        "from google.colab import drive, userdata\n",
        "\n",
        "# LangChain imports\n",
        "from langchain.agents import AgentExecutor, create_react_agent\n",
        "from langchain.prompts import ChatPromptTemplate, MessagesPlaceholder\n",
        "from langchain.schema import AIMessage, HumanMessage\n",
        "from langchain_core.prompts import PromptTemplate\n",
        "from langchain_core.tools import tool\n",
        "from langchain_openai import ChatOpenAI"
      ],
      "metadata": {
        "id": "TW_mDTzUybHs"
      },
      "execution_count": 103,
      "outputs": []
    },
    {
      "cell_type": "markdown",
      "source": [
        "## **Configuração das Variáveis de Ambiente**\n",
        "\n",
        "Configuração de variáveis de ambiente para OpenAI e LangSmith"
      ],
      "metadata": {
        "id": "4pXhfSmPvilO"
      }
    },
    {
      "cell_type": "code",
      "source": [
        "os.environ['OPENAI_API_KEY'] = userdata.get('OPENAI_KEY')\n",
        "os.environ[\"LANGCHAIN_TRACING_V2\"] = \"true\"\n",
        "os.environ[\"LANGCHAIN_ENDPOINT\"] = \"https://api.smith.langchain.com\"\n",
        "os.environ[\"LANGCHAIN_API_KEY\"] = userdata.get('LANGSMITH_KEY')\n",
        "os.environ[\"LANGCHAIN_PROJECT\"] = \"prompt-engineering-techniques\""
      ],
      "metadata": {
        "id": "9jvGbIVA0HtN"
      },
      "execution_count": 3,
      "outputs": []
    },
    {
      "cell_type": "markdown",
      "source": [
        "## **Criação das Tools**\n",
        "\n",
        "A próxima célula define três ferramentas financeiras que agentes LangChain podem usar para analisar ações.\n",
        "- (`get_stock_price`) retorna o preço atual e variação percentual de uma ação\n",
        "- (`get_dividend_yield`) calcula o rendimento de dividendos em porcentagem\n",
        "- (`get_market_cap`) obtém o valor de mercado da empresa em bilhões de dólares.\n",
        "\n",
        "Todas utilizam o decorador `@tool` do LangChain para serem automaticamente integradas aos agentes e buscam dados via Yahoo Finance usando o ticker da ação como parâmetro."
      ],
      "metadata": {
        "id": "7vRR5F8KwGms"
      }
    },
    {
      "cell_type": "code",
      "source": [
        "@tool\n",
        "def get_stock_price(ticker: str) -> dict:\n",
        "    \"\"\"Get current stock price\"\"\"\n",
        "    stock = yf.Ticker(ticker)\n",
        "    info = stock.info\n",
        "    return {\n",
        "        \"ticker\": ticker,\n",
        "        \"price\": info.get(\"currentPrice\", 0),\n",
        "        \"change_percent\": info.get(\"regularMarketChangePercent\", 0)\n",
        "    }\n",
        "\n",
        "@tool\n",
        "def get_dividend_yield(ticker: str) -> float:\n",
        "    \"\"\"Get dividend yield percentage\"\"\"\n",
        "    stock = yf.Ticker(ticker)\n",
        "    return stock.info.get(\"dividendYield\", 0) * 100\n",
        "\n",
        "@tool\n",
        "def get_market_cap(ticker: str) -> float:\n",
        "    \"\"\"Get market capitalization in billions\"\"\"\n",
        "    stock = yf.Ticker(ticker)\n",
        "    return stock.info.get(\"marketCap\", 0) / 1e9"
      ],
      "metadata": {
        "id": "_b8eXfrUL_f9"
      },
      "execution_count": 4,
      "outputs": []
    },
    {
      "cell_type": "code",
      "source": [
        "tools = [\n",
        "    get_stock_price,\n",
        "    get_dividend_yield,\n",
        "    get_market_cap\n",
        "]"
      ],
      "metadata": {
        "id": "C9JVH7_EzSC9"
      },
      "execution_count": 18,
      "outputs": []
    },
    {
      "cell_type": "code",
      "source": [
        "tools_map = {tool.name: tool for tool in tools}"
      ],
      "metadata": {
        "id": "CHJ7Mv3kzdE4"
      },
      "execution_count": 19,
      "outputs": []
    },
    {
      "cell_type": "code",
      "source": [
        "tools_map"
      ],
      "metadata": {
        "colab": {
          "base_uri": "https://localhost:8080/"
        },
        "id": "SzG4oebhz0xb",
        "outputId": "1a27e088-cb58-4382-a13d-f45fffda0b39"
      },
      "execution_count": 20,
      "outputs": [
        {
          "output_type": "execute_result",
          "data": {
            "text/plain": [
              "{'get_stock_price': StructuredTool(name='get_stock_price', description='Get current stock price', args_schema=<class 'langchain_core.utils.pydantic.get_stock_price'>, func=<function get_stock_price at 0x7c697bee8b80>),\n",
              " 'get_dividend_yield': StructuredTool(name='get_dividend_yield', description='Get dividend yield percentage', args_schema=<class 'langchain_core.utils.pydantic.get_dividend_yield'>, func=<function get_dividend_yield at 0x7c6a5f08dd00>),\n",
              " 'get_market_cap': StructuredTool(name='get_market_cap', description='Get market capitalization in billions', args_schema=<class 'langchain_core.utils.pydantic.get_market_cap'>, func=<function get_market_cap at 0x7c697c0ba7a0>)}"
            ]
          },
          "metadata": {},
          "execution_count": 20
        }
      ]
    },
    {
      "cell_type": "markdown",
      "source": [
        "## **Criando um LLM que tem acesso às Tools**\n",
        "\n",
        "- Inicialização do modelo GPT-4o-mini e utilização do método `bind_tools()` para **vincular as três ferramentas financeiras ao LLM**, permitindo que o modelo identifique automaticamente quando precisa usar essas funções para responder perguntas.\n",
        "- O `bind_tools()` converte as ferramentas Python em um formato que o modelo entende (function calling), habilitando-o a decidir qual ferramenta chamar baseado na pergunta do usuário.\n",
        "- Quando invocado com \"Qual o preço da Apple?\", o modelo reconhece que precisa usar `get_stock_price` e retorna uma resposta estruturada solicitando a execução dessa ferramenta com o ticker apropriado"
      ],
      "metadata": {
        "id": "IAjk99tRwIwF"
      }
    },
    {
      "cell_type": "code",
      "source": [
        "llm = ChatOpenAI(model=\"gpt-4o-mini\")\n",
        "llm_with_tools = llm.bind_tools(tools)\n",
        "\n",
        "response = llm_with_tools.invoke(\"Qual o preço da ação da Apple e da Microsoft?\")"
      ],
      "metadata": {
        "id": "ueIkMuOaMAHZ"
      },
      "execution_count": 42,
      "outputs": []
    },
    {
      "cell_type": "code",
      "source": [
        "response"
      ],
      "metadata": {
        "colab": {
          "base_uri": "https://localhost:8080/"
        },
        "id": "F0BROnFVd1Va",
        "outputId": "76aa509e-3d2a-45e9-cf52-2fac4c241eda"
      },
      "execution_count": 43,
      "outputs": [
        {
          "output_type": "execute_result",
          "data": {
            "text/plain": [
              "AIMessage(content='', additional_kwargs={'tool_calls': [{'id': 'call_TIbns8vRxmcXjc0Amp7RuCiz', 'function': {'arguments': '{\"ticker\": \"AAPL\"}', 'name': 'get_stock_price'}, 'type': 'function'}, {'id': 'call_5Orf7j9LmpqjIUzGNJUgDF2H', 'function': {'arguments': '{\"ticker\": \"MSFT\"}', 'name': 'get_stock_price'}, 'type': 'function'}], 'refusal': None}, response_metadata={'token_usage': {'completion_tokens': 48, 'prompt_tokens': 97, 'total_tokens': 145, 'completion_tokens_details': {'accepted_prediction_tokens': 0, 'audio_tokens': 0, 'reasoning_tokens': 0, 'rejected_prediction_tokens': 0}, 'prompt_tokens_details': {'audio_tokens': 0, 'cached_tokens': 0}}, 'model_name': 'gpt-4o-mini-2024-07-18', 'system_fingerprint': 'fp_560af6e559', 'id': 'chatcmpl-CPZzr8UpLLPWDqNJfLCOJ9FLLILKD', 'service_tier': 'default', 'finish_reason': 'tool_calls', 'logprobs': None}, id='run--e2d23c50-b524-4e75-a202-3213834b8a1e-0', tool_calls=[{'name': 'get_stock_price', 'args': {'ticker': 'AAPL'}, 'id': 'call_TIbns8vRxmcXjc0Amp7RuCiz', 'type': 'tool_call'}, {'name': 'get_stock_price', 'args': {'ticker': 'MSFT'}, 'id': 'call_5Orf7j9LmpqjIUzGNJUgDF2H', 'type': 'tool_call'}], usage_metadata={'input_tokens': 97, 'output_tokens': 48, 'total_tokens': 145, 'input_token_details': {'audio': 0, 'cache_read': 0}, 'output_token_details': {'audio': 0, 'reasoning': 0}})"
            ]
          },
          "metadata": {},
          "execution_count": 43
        }
      ]
    },
    {
      "cell_type": "code",
      "source": [
        "response.tool_calls"
      ],
      "metadata": {
        "colab": {
          "base_uri": "https://localhost:8080/"
        },
        "id": "AEZZQeiF1BoA",
        "outputId": "4d247d98-99e5-4d02-e271-03891a2002b9"
      },
      "execution_count": 44,
      "outputs": [
        {
          "output_type": "execute_result",
          "data": {
            "text/plain": [
              "[{'name': 'get_stock_price',\n",
              "  'args': {'ticker': 'AAPL'},\n",
              "  'id': 'call_TIbns8vRxmcXjc0Amp7RuCiz',\n",
              "  'type': 'tool_call'},\n",
              " {'name': 'get_stock_price',\n",
              "  'args': {'ticker': 'MSFT'},\n",
              "  'id': 'call_5Orf7j9LmpqjIUzGNJUgDF2H',\n",
              "  'type': 'tool_call'}]"
            ]
          },
          "metadata": {},
          "execution_count": 44
        }
      ]
    },
    {
      "cell_type": "code",
      "source": [
        "for tool_call in response.tool_calls:\n",
        "    print(tool_call)\n",
        "    print(tool_call.get(\"args\"))\n",
        "    print(tool_call.get(\"name\"))\n",
        "\n",
        "    print(\"Executando a tool manualmente...\")\n",
        "\n",
        "    tool_to_execute = tools_map.get(tool_call.get(\"name\"))\n",
        "    tool_result = tool_to_execute.invoke(tool_call.get(\"args\"))\n",
        "\n",
        "    print(\"Resposta da Tool\")\n",
        "    print(tool_result)\n"
      ],
      "metadata": {
        "colab": {
          "base_uri": "https://localhost:8080/"
        },
        "id": "Gil7DvxFy-Hi",
        "outputId": "26195aec-73b7-46a6-9c6e-5f8a5ef9634f"
      },
      "execution_count": 45,
      "outputs": [
        {
          "output_type": "stream",
          "name": "stdout",
          "text": [
            "{'name': 'get_stock_price', 'args': {'ticker': 'AAPL'}, 'id': 'call_TIbns8vRxmcXjc0Amp7RuCiz', 'type': 'tool_call'}\n",
            "{'ticker': 'AAPL'}\n",
            "get_stock_price\n",
            "Executando a tool manualmente...\n",
            "Resposta da Tool\n",
            "{'ticker': 'AAPL', 'price': 245.27, 'change_percent': -3.45221}\n",
            "{'name': 'get_stock_price', 'args': {'ticker': 'MSFT'}, 'id': 'call_5Orf7j9LmpqjIUzGNJUgDF2H', 'type': 'tool_call'}\n",
            "{'ticker': 'MSFT'}\n",
            "get_stock_price\n",
            "Executando a tool manualmente...\n",
            "Resposta da Tool\n",
            "{'ticker': 'MSFT', 'price': 510.96, 'change_percent': -2.1899}\n"
          ]
        }
      ]
    },
    {
      "cell_type": "markdown",
      "source": [
        "## **Criação de um Agente que tenha acesso às Tools**"
      ],
      "metadata": {
        "id": "umtYReGKwKmn"
      }
    },
    {
      "cell_type": "code",
      "source": [
        "prompt = ChatPromptTemplate.from_messages([\n",
        "    (\"system\", \"\"\"Você é um especialista financeiro experiente com profundo conhecimento em:\n",
        "    - Análise de ações e mercado financeiro\n",
        "    - Avaliação de investimentos\n",
        "    - Interpretação de indicadores financeiros\n",
        "    - Estratégias de investimento\n",
        "\n",
        "    Você tem acesso a ferramentas que fornecem dados em tempo real sobre:\n",
        "    - Preços de ações\n",
        "    - Dividend yield (rendimento de dividendos)\n",
        "    - Market cap (capitalização de mercado)\n",
        "\n",
        "    Ao responder:\n",
        "    1. Use as ferramentas disponíveis para obter dados atualizados\n",
        "    2. Forneça análises claras e objetivas\n",
        "    3. Explique os números em termos que investidores possam entender\n",
        "    4. Quando relevante, contextualize os dados (ex: comparar com médias do setor)\n",
        "    5. Seja preciso com os valores e sempre mencione a moeda quando aplicável\n",
        "\n",
        "    Para ações brasileiras, use o formato correto do ticker (ex: PETR4.SA, VALE3.SA).\n",
        "    Para ações americanas, use apenas o símbolo (ex: AAPL, MSFT, GOOGL).\n",
        "\n",
        "    Seja profissional, mas acessível. Seu objetivo é ajudar o usuário a entender melhor seus investimentos.\n",
        "    \"\"\"),\n",
        "    (\"human\", \"{messages}\")\n",
        "])"
      ],
      "metadata": {
        "id": "w5d-4a4NLzhe"
      },
      "execution_count": 130,
      "outputs": []
    },
    {
      "cell_type": "code",
      "source": [
        "from langgraph.prebuilt import create_react_agent\n",
        "\n",
        "model = ChatOpenAI(model=\"gpt-4o-mini\")\n",
        "\n",
        "agent_executor = create_react_agent(\n",
        "    model=model,\n",
        "    tools=tools,\n",
        "    prompt=prompt)"
      ],
      "metadata": {
        "id": "9diQkNWx3KXS"
      },
      "execution_count": 131,
      "outputs": []
    },
    {
      "cell_type": "code",
      "source": [
        "%%time\n",
        "result = agent_executor.invoke({\n",
        "    \"messages\": \"Qual ação tem maior dividend yield: Apple ou Microsoft?\",\n",
        "})"
      ],
      "metadata": {
        "colab": {
          "base_uri": "https://localhost:8080/"
        },
        "id": "zIy8zSAdH7H2",
        "outputId": "8fab2a7f-f0b4-4435-d6d1-33b8e6be9246"
      },
      "execution_count": 136,
      "outputs": [
        {
          "output_type": "stream",
          "name": "stdout",
          "text": [
            "CPU times: user 109 ms, sys: 15.5 ms, total: 125 ms\n",
            "Wall time: 4.99 s\n"
          ]
        }
      ]
    },
    {
      "cell_type": "code",
      "source": [
        "for message in result.get(\"messages\"):\n",
        "    print(message)"
      ],
      "metadata": {
        "colab": {
          "base_uri": "https://localhost:8080/"
        },
        "id": "z3u6nVmdKFv9",
        "outputId": "b310347e-6a0e-4f40-89f9-988829bc91db"
      },
      "execution_count": 137,
      "outputs": [
        {
          "output_type": "stream",
          "name": "stdout",
          "text": [
            "content='Qual ação tem maior dividend yield: Apple ou Microsoft?' additional_kwargs={} response_metadata={} id='1a53fab6-e2ec-48b3-a1de-b3d76c8d6ade'\n",
            "content='' additional_kwargs={'tool_calls': [{'id': 'call_bZLkv8sDc9PA6cT9lGb7XUDL', 'function': {'arguments': '{\"ticker\": \"AAPL\"}', 'name': 'get_dividend_yield'}, 'type': 'function'}, {'id': 'call_MTES6l4bf8gRkyXB00C2im3k', 'function': {'arguments': '{\"ticker\": \"MSFT\"}', 'name': 'get_dividend_yield'}, 'type': 'function'}], 'refusal': None} response_metadata={'token_usage': {'completion_tokens': 52, 'prompt_tokens': 380, 'total_tokens': 432, 'completion_tokens_details': {'accepted_prediction_tokens': 0, 'audio_tokens': 0, 'reasoning_tokens': 0, 'rejected_prediction_tokens': 0}, 'prompt_tokens_details': {'audio_tokens': 0, 'cached_tokens': 0}}, 'model_name': 'gpt-4o-mini-2024-07-18', 'system_fingerprint': 'fp_560af6e559', 'id': 'chatcmpl-CPbgNw49bk4tLjoMEfMWISCf70zaF', 'service_tier': 'default', 'finish_reason': 'tool_calls', 'logprobs': None} id='run--ba2fd485-8c13-4a2e-8c37-ed07b6e1d875-0' tool_calls=[{'name': 'get_dividend_yield', 'args': {'ticker': 'AAPL'}, 'id': 'call_bZLkv8sDc9PA6cT9lGb7XUDL', 'type': 'tool_call'}, {'name': 'get_dividend_yield', 'args': {'ticker': 'MSFT'}, 'id': 'call_MTES6l4bf8gRkyXB00C2im3k', 'type': 'tool_call'}] usage_metadata={'input_tokens': 380, 'output_tokens': 52, 'total_tokens': 432, 'input_token_details': {'audio': 0, 'cache_read': 0}, 'output_token_details': {'audio': 0, 'reasoning': 0}}\n",
            "content='42.0' name='get_dividend_yield' id='94454619-1cb5-497d-ae6a-4b1cbaad6b4a' tool_call_id='call_bZLkv8sDc9PA6cT9lGb7XUDL'\n",
            "content='71.0' name='get_dividend_yield' id='faf8489d-6975-4f78-9ef5-ecff45b58816' tool_call_id='call_MTES6l4bf8gRkyXB00C2im3k'\n",
            "content='Atualmente, os dividend yields das ações da Apple (AAPL) e da Microsoft (MSFT) são os seguintes:\\n\\n- **Apple (AAPL)**: 4,2%\\n- **Microsoft (MSFT)**: 7,1%\\n\\nCom base nesses números, a Microsoft apresenta um rendimento de dividendos significativamente maior do que a Apple. Isso pode ser um fator importante a considerar se você está buscando ações que proporcionem uma renda passiva através de dividendos.' additional_kwargs={'refusal': None} response_metadata={'token_usage': {'completion_tokens': 97, 'prompt_tokens': 1002, 'total_tokens': 1099, 'completion_tokens_details': {'accepted_prediction_tokens': 0, 'audio_tokens': 0, 'reasoning_tokens': 0, 'rejected_prediction_tokens': 0}, 'prompt_tokens_details': {'audio_tokens': 0, 'cached_tokens': 0}}, 'model_name': 'gpt-4o-mini-2024-07-18', 'system_fingerprint': 'fp_560af6e559', 'id': 'chatcmpl-CPbgPDvZ7h8ehEK46pbxeiozfhzd0', 'service_tier': 'default', 'finish_reason': 'stop', 'logprobs': None} id='run--626e1f68-a137-4a83-97a7-a5ca4b4b00fe-0' usage_metadata={'input_tokens': 1002, 'output_tokens': 97, 'total_tokens': 1099, 'input_token_details': {'audio': 0, 'cache_read': 0}, 'output_token_details': {'audio': 0, 'reasoning': 0}}\n"
          ]
        }
      ]
    },
    {
      "cell_type": "code",
      "source": [
        "print(\n",
        "    {\n",
        "        \"input\": 'query',\n",
        "        \"output\": result[\"messages\"][-1].content,\n",
        "    }\n",
        ")"
      ],
      "metadata": {
        "colab": {
          "base_uri": "https://localhost:8080/"
        },
        "id": "SJl2YWmvH95w",
        "outputId": "c0960e34-9c08-4037-9c14-cdc46d50b2d5"
      },
      "execution_count": 123,
      "outputs": [
        {
          "output_type": "stream",
          "name": "stdout",
          "text": [
            "{'input': 'query', 'output': 'Atualmente, a Apple (AAPL) apresenta um rendimento de dividendos (dividend yield) de **42.0%**, enquanto a Microsoft (MSFT) tem um yield de **71.0%**.\\n\\nIsso significa que, em termos de rendimento de dividendos, a Microsoft está atualmente oferecendo um retorno maior aos seus acionistas em relação ao que a Apple oferece. O dividend yield é uma métrica importante para investidores que buscam rendimento em ações, especialmente para aqueles focados em estratégias de investimento em dividendos.\\n\\nSe você tiver mais perguntas sobre essas ações ou sobre investimentos em geral, fique à vontade para perguntar!'}\n"
          ]
        }
      ]
    },
    {
      "cell_type": "code",
      "source": [],
      "metadata": {
        "id": "jv_0cf3zJ9ke"
      },
      "execution_count": null,
      "outputs": []
    }
  ]
}