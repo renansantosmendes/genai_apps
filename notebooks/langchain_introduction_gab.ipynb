{
  "cells": [
    {
      "cell_type": "markdown",
      "id": "8d1eaeee",
      "metadata": {
        "id": "8d1eaeee"
      },
      "source": [
        "# **GenAI Aplicada ao Mercado Financeiro com LangChain**\n",
        "\n",
        "**Autor**: Renan Santos Mendes\n",
        "\n",
        "**Email**: renansantosmendes@gmail.com\n",
        "\n",
        "**Descrição**: Este notebook demonstra aplicações práticas de Inteligência Artificial Generativa no mercado financeiro brasileiro usando LangChain e OpenAI. O projeto explora diferentes padrões de interação com LLMs para criar soluções financeiras inteligentes:\n",
        "\n",
        "- **Análise de Ações**: Templates personalizados para análise técnica e fundamentalista de ativos\n",
        "- **Chatbot Financeiro**: Sistema conversacional para consultoria de investimentos\n",
        "- **Análise Completa de Portfólio**: Chains complexas para planejamento financeiro personalizado\n",
        "- **Sistema de Alertas**: Geração automática de alertas sobre eventos de mercado\n",
        "\n",
        "O notebook utiliza componentes fundamentais do LangChain como PromptTemplate, ChatPromptTemplate, Chains e diferentes tipos de mensagens (System, Human, AI) para construir aplicações robustas e escaláveis no contexto financeiro."
      ]
    },
    {
      "cell_type": "markdown",
      "id": "827c0e44",
      "metadata": {
        "id": "827c0e44"
      },
      "source": [
        "## **Instalação dos Pacotes**"
      ]
    },
    {
      "cell_type": "code",
      "execution_count": 3,
      "id": "fe3f010e",
      "metadata": {
        "id": "fe3f010e"
      },
      "outputs": [],
      "source": [
        "%%capture\n",
        "!pip install langchain langchain-openai"
      ]
    },
    {
      "cell_type": "markdown",
      "id": "config_section",
      "metadata": {
        "id": "config_section"
      },
      "source": [
        "## **Configuração das Variáveis de Ambiente**\n",
        "\n",
        "Configuração da chave de API da OpenAI para autenticação"
      ]
    },
    {
      "cell_type": "code",
      "execution_count": 4,
      "id": "env_config",
      "metadata": {
        "id": "env_config"
      },
      "outputs": [],
      "source": [
        "import os\n",
        "\n",
        "from google.colab import userdata\n",
        "\n",
        "\n",
        "os.environ[\"OPENAI_API_KEY\"] = userdata.get('OPENAI_KEY')"
      ]
    },
    {
      "cell_type": "markdown",
      "id": "import_section",
      "metadata": {
        "id": "import_section"
      },
      "source": [
        "## **Imports dos Pacotes Usados no Notebook**\n",
        "\n",
        "Importação dos componentes principais do LangChain para construção de aplicações com LLMs"
      ]
    },
    {
      "cell_type": "code",
      "execution_count": 5,
      "id": "a2b1bfbf",
      "metadata": {
        "id": "a2b1bfbf"
      },
      "outputs": [],
      "source": [
        "from langchain.prompts import ChatPromptTemplate, PromptTemplate\n",
        "from langchain.schema import AIMessage, HumanMessage, SystemMessage\n",
        "from langchain_openai import ChatOpenAI"
      ]
    },
    {
      "cell_type": "markdown",
      "id": "b88228d7",
      "metadata": {
        "id": "b88228d7"
      },
      "source": [
        "## **Inicialização do Modelo LLM**\n",
        "\n",
        "Criação da instância do modelo ChatGPT que será utilizado em todos os exemplos"
      ]
    },
    {
      "cell_type": "code",
      "execution_count": 6,
      "id": "b0611fa0",
      "metadata": {
        "id": "b0611fa0",
        "colab": {
          "base_uri": "https://localhost:8080/"
        },
        "outputId": "08f757a9-a6c3-4303-993b-725a047b60c6"
      },
      "outputs": [
        {
          "output_type": "stream",
          "name": "stdout",
          "text": [
            "Modelo LLM inicializado com sucesso!\n"
          ]
        }
      ],
      "source": [
        "llm = ChatOpenAI(\n",
        "    model=\"gpt-4o-mini\",\n",
        "    temperature=0.7,\n",
        "    api_key=os.getenv(\"OPENAI_API_KEY\")\n",
        ")\n",
        "\n",
        "print(\"Modelo LLM inicializado com sucesso!\")"
      ]
    },
    {
      "cell_type": "markdown",
      "id": "2656d0da",
      "metadata": {
        "id": "2656d0da"
      },
      "source": [
        "## **Exemplo 1: Análise de Ações com PromptTemplate**\n",
        "\n",
        "Este exemplo demonstra como criar um template parametrizável para análise de ações. O PromptTemplate permite definir variáveis dinâmicas (ticker, preço, período) que são substituídas em tempo de execução, facilitando a reutilização do mesmo prompt para diferentes ativos."
      ]
    },
    {
      "cell_type": "code",
      "execution_count": 7,
      "id": "7e7da398",
      "metadata": {
        "id": "7e7da398",
        "colab": {
          "base_uri": "https://localhost:8080/"
        },
        "outputId": "313e105d-5d48-4a66-ac96-a78e52e1c63a"
      },
      "outputs": [
        {
          "output_type": "stream",
          "name": "stdout",
          "text": [
            "=== ANÁLISE DE AÇÃO PETR4 ===\n",
            "### Análise da Ação PETR4\n",
            "\n",
            "**Setor da Empresa:**\n",
            "A PETR4 refere-se às ações preferenciais da Petrobras, uma das maiores empresas de energia do Brasil e uma das maiores do mundo em petróleo e gás. A empresa está inserida no setor de energia, mais especificamente na exploração, produção e refino de petróleo e gás natural. O setor é caracterizado por ser altamente regulado e volátil, influenciado por fatores como os preços internacionais do petróleo, políticas governamentais, e questões ambientais.\n",
            "\n",
            "**Principais Métricas Financeiras Relevantes:**\n",
            "1. **Preço/Lucro (P/L):** Um indicador importante para avaliar se a ação está supervalorizada ou subvalorizada. O P/L da PETR4 pode ser comparado ao de outras empresas do setor e à média do mercado.\n",
            "   \n",
            "2. **Dividend Yield:** A Petrobras historicamente tem um bom histórico de pagamento de dividendos, o que pode ser atraente para investidores em busca de renda passiva.\n",
            "   \n",
            "3. **Endividamento:** A relação dívida/EBITDA é um indicador chave para entender o risco financeiro da empresa. Um nível elevado de endividamento pode ser preocupante, especialmente em um cenário de alta de juros.\n",
            "\n",
            "4. **Lucro por Ação (LPA):** O LPA é um indicador importante para avaliar a rentabilidade da empresa. A análise do crescimento do LPA ao longo dos últimos trimestres é fundamental para entender a saúde financeira da empresa.\n",
            "\n",
            "5. **Fluxo de Caixa:** A geração de caixa operacional é essencial para a sustentabilidade da empresa, especialmente em um setor tão capital-intensivo como o de petróleo e gás.\n",
            "\n",
            "**Riscos e Oportunidades:**\n",
            "\n",
            "**Riscos:**\n",
            "- **Volatilidade dos Preços do Petróleo:** Os preços do petróleo são influenciados por fatores globais, como OPEP, geopolitica, e demanda global. Quedas acentuadas nos preços podem impactar negativamente os lucros da Petrobras.\n",
            "  \n",
            "- **Regulação e Políticas Públicas:** A Petrobras é uma empresa estatal e, como tal, está sujeita a mudanças nas políticas governamentais que podem afetar sua operação e rentabilidade.\n",
            "\n",
            "- **Risco Cambial:** Como a Petrobras tem receitas em dólar e custos em reais, a variação da taxa de câmbio pode impactar seus resultados financeiros.\n",
            "\n",
            "- **Riscos Ambientais e de Sustentabilidade:** A crescente pressão por práticas mais sustentáveis pode levar a custos adicionais e a necessidade de investimentos em tecnologias limpas.\n",
            "\n",
            "**Oportunidades:**\n",
            "- **Recuperação Econômica:** Uma recuperação econômica pode aumentar a demanda por petróleo e gás, beneficiando a Petrobras.\n",
            "\n",
            "- **Investimentos em Energias Renováveis:** A diversificação em energias renováveis pode abrir novos mercados e oportunidades de crescimento.\n",
            "\n",
            "- **Aumento da Produção:** Descobertas de novas reservas e aumento da produção em campos existentes podem proporcionar crescimento significativo.\n",
            "\n",
            "**Recomendação de Investimento:**\n",
            "Considerando o preço atual de R$ 38,50, a análise das métricas financeiras e o contexto do setor, a recomendação de investimento para a ação PETR4 seria:\n",
            "\n",
            "**Manter.**\n",
            "\n",
            "Justificativa:\n",
            "- O preço atual está em um patamar que pode ser considerado justo, dependendo das projeções de crescimento e do cenário macroeconômico. \n",
            "- Apesar dos riscos associados, a empresa apresenta oportunidades de crescimento, especialmente se a recuperação da economia e a demanda por petróleo forem favoráveis.\n",
            "- Para investidores que já possuem ações da PETR4, é aconselhável manter a posição, enquanto novos investidores podem considerar a entrada em momentos de correção de preço, garantindo um preço mais atrativo.\n",
            "\n",
            "**Observação Final:**\n",
            "É vital que os investidores monitorem de perto os indicadores de desempenho da empresa e as condições de mercado, ajustando suas estratégias conforme necessário. A volatilidade do setor de petróleo pode oferecer oportunidades, mas também exige atenção rigorosa e decisão informada.\n"
          ]
        }
      ],
      "source": [
        "stock_analysis_template = \"\"\"\n",
        "Como analista financeiro experiente, forneça uma análise detalhada da ação {ticker}.\n",
        "\n",
        "Considere os seguintes aspectos:\n",
        "- Setor da empresa\n",
        "- Principais métricas financeiras relevantes\n",
        "- Riscos e oportunidades\n",
        "- Recomendação de investimento (compra, venda, manter)\n",
        "\n",
        "Preço atual: R$ {price}\n",
        "Período de análise: {period}\n",
        "\n",
        "Análise:\n",
        "\"\"\"\n",
        "\n",
        "stock_prompt = PromptTemplate(\n",
        "    input_variables=[\"ticker\", \"price\", \"period\"],\n",
        "    template=stock_analysis_template\n",
        ")\n",
        "\n",
        "formatted_prompt = stock_prompt.format(\n",
        "    ticker=\"PETR4\",\n",
        "    price=\"38.50\",\n",
        "    period=\"último trimestre\"\n",
        ")\n",
        "\n",
        "response = llm.invoke(formatted_prompt)\n",
        "\n",
        "print(\"=== ANÁLISE DE AÇÃO PETR4 ===\")\n",
        "print(response.content)"
      ]
    },
    {
      "cell_type": "markdown",
      "id": "2ff34e32",
      "metadata": {
        "id": "2ff34e32"
      },
      "source": [
        "## **Exemplo 2: Chatbot Financeiro com ChatPromptTemplate**\n",
        "\n",
        "Este exemplo implementa um chatbot financeiro usando ChatPromptTemplate, que permite estruturar conversas com diferentes tipos de mensagens (System, Human, AI). A mensagem System define o comportamento e expertise do assistente, enquanto as mensagens Human representam as perguntas dos usuários."
      ]
    },
    {
      "cell_type": "code",
      "execution_count": 8,
      "id": "418c6140",
      "metadata": {
        "id": "418c6140",
        "colab": {
          "base_uri": "https://localhost:8080/"
        },
        "outputId": "379ce9b6-1e4a-44c4-c7f1-f844d8f49702"
      },
      "outputs": [
        {
          "output_type": "stream",
          "name": "stdout",
          "text": [
            "=== CHATBOT FINANCEIRO ===\n",
            "\n",
            "1. Pergunta: Como devo começar a investir com R$ 1.000?\n",
            "Resposta: Parece que você não colocou uma pergunta específica. Por favor, forneça mais detalhes ou uma questão específica sobre finanças ou investimentos que você gostaria de discutir, e ficarei feliz em ajudar!\n",
            "--------------------------------------------------------------------------------\n",
            "\n",
            "2. Pergunta: Qual a diferença entre CDB e Tesouro Direto?\n",
            "Resposta: Parece que você não incluiu uma pergunta específica. Por favor, forneça mais detalhes ou uma pergunta sobre investimentos ou finanças que você gostaria de discutir, e ficarei feliz em ajudar!\n",
            "--------------------------------------------------------------------------------\n",
            "\n",
            "3. Pergunta: Vale a pena investir em criptomoedas?\n",
            "Resposta: Parece que você não fez uma pergunta específica. Sinta-se à vontade para perguntar sobre investimentos, planejamento financeiro, estratégias de economia ou qualquer outro assunto relacionado às finanças. Estou aqui para ajudar!\n",
            "--------------------------------------------------------------------------------\n"
          ]
        }
      ],
      "source": [
        "chat_template = ChatPromptTemplate.from_messages([\n",
        "    SystemMessage(\n",
        "        content=\"\"\"Você é um consultor financeiro especializado no mercado brasileiro.\n",
        "        Forneça conselhos práticos e baseados em princípios sólidos de investimento.\n",
        "        Sempre mencione os riscos envolvidos e não dê garantias de retorno.\"\"\"\n",
        "    ),\n",
        "    HumanMessage(content=\"{user_question}\")\n",
        "])\n",
        "\n",
        "questions = [\n",
        "    \"Como devo começar a investir com R$ 1.000?\",\n",
        "    \"Qual a diferença entre CDB e Tesouro Direto?\",\n",
        "    \"Vale a pena investir em criptomoedas?\"\n",
        "]\n",
        "\n",
        "print(\"=== CHATBOT FINANCEIRO ===\")\n",
        "for i, question in enumerate(questions, 1):\n",
        "    messages = chat_template.format_messages(user_question=question)\n",
        "    response = llm.invoke(messages)\n",
        "\n",
        "    print(f\"\\n{i}. Pergunta: {question}\")\n",
        "    print(f\"Resposta: {response.content}\")\n",
        "    print(\"-\" * 80)"
      ]
    },
    {
      "cell_type": "markdown",
      "id": "ae88da3d",
      "metadata": {
        "id": "ae88da3d"
      },
      "source": [
        "## **Exemplo 3: Chain para Análise Completa de Investimento**\n",
        "\n",
        "Este exemplo demonstra o uso de Chains do LangChain, que permitem encadear prompts e modelos de forma declarativa usando o operador `|`. A chain combina o template de análise completa com o LLM, criando um pipeline reutilizável que pode ser invocado com diferentes parâmetros de investidor."
      ]
    },
    {
      "cell_type": "code",
      "execution_count": 9,
      "id": "f1ac40cc",
      "metadata": {
        "id": "f1ac40cc",
        "colab": {
          "base_uri": "https://localhost:8080/"
        },
        "outputId": "fcf8608a-49c1-490d-ebdf-5a1da1ac1fc4"
      },
      "outputs": [
        {
          "output_type": "stream",
          "name": "stdout",
          "text": [
            "=== ANÁLISE COMPLETA DE INVESTIMENTO ===\n",
            "### Análise Completa de Investimento\n",
            "\n",
            "**Perfil do Investidor:**\n",
            "- **Idade:** 28 anos\n",
            "- **Capital Disponível:** R$ 50.000\n",
            "- **Objetivo:** Aposentadoria\n",
            "- **Prazo:** 35 anos\n",
            "- **Tolerância ao Risco:** Moderada\n",
            "\n",
            "### 1. Estratégia de Investimento Recomendada\n",
            "\n",
            "Dado o perfil do investidor, a estratégia de investimento deve focar em um crescimento sustentável do capital ao longo do tempo, aproveitando o horizonte de longo prazo para mitigar flutuações de mercado. O investidor deve diversificar seus investimentos para equilibrar risco e retorno, alocando uma parte significativa em ativos de renda variável, mas também garantindo uma base sólida em renda fixa.\n",
            "\n",
            "### 2. Alocação de Ativos Sugerida\n",
            "\n",
            "- **Renda Variável (50%):** R$ 25.000\n",
            "  - Ações de empresas de grande capitalização (30%): R$ 15.000\n",
            "  - Fundos de índice (ETFs) focados em ações (20%): R$ 10.000\n",
            "\n",
            "- **Renda Fixa (30%):** R$ 15.000\n",
            "  - Títulos do Tesouro Direto (Tesouro Selic e Tesouro IPCA): R$ 10.000\n",
            "  - Fundos de renda fixa: R$ 5.000\n",
            "\n",
            "- **Fundos Imobiliários (10%):** R$ 5.000\n",
            "  - Investir em um ou mais fundos imobiliários que proporcionem renda passiva através de aluguéis.\n",
            "\n",
            "- **Criptomoedas e Ativos Alternativos (10%):** R$ 5.000\n",
            "  - Alocar em criptomoedas com maior capitalização, como Bitcoin e Ethereum, e considerar ativos alternativos que possam oferecer boa rentabilidade.\n",
            "\n",
            "### 3. Produtos Financeiros Específicos\n",
            "\n",
            "- **Ações:** \n",
            "  - Empresas de setores diversificados, como tecnologia, saúde e consumo.\n",
            "  - Exemplo: ações da Petrobras (PETR3), Magazine Luiza (MGLU3), e Vale (VALE3).\n",
            "\n",
            "- **ETFs:**\n",
            "  - BOVA11 (focado em ações de empresas brasileiras).\n",
            "  - IVVB11 (exposição ao S&P 500).\n",
            "\n",
            "- **Títulos do Tesouro Direto:**\n",
            "  - Tesouro Selic para liquidez e segurança.\n",
            "  - Tesouro IPCA+ para proteção contra a inflação.\n",
            "\n",
            "- **Fundos de Renda Fixa:**\n",
            "  - Fundos que busquem superar a taxa de juros CDI.\n",
            "\n",
            "- **Fundos Imobiliários:**\n",
            "  - HGLG11 (fundo de logística) ou KNRI11 (fundo de renda).\n",
            "\n",
            "- **Criptomoedas:**\n",
            "  - Compra de frações de Bitcoin (BTC) e Ethereum (ETH).\n",
            "\n",
            "### 4. Cronograma de Aportes\n",
            "\n",
            "- **Aporte Inicial:** R$ 50.000 (distribuído conforme a alocação sugerida).\n",
            "- **Aportes Mensais:** R$ 500 a R$ 1.000, dependendo da capacidade financeira do investidor, aumentando anualmente em 5% para acompanhar a inflação.\n",
            "- **Rebalanceamento:** Realizar uma revisão e rebalanceamento da carteira a cada 6 meses para ajustar a alocação de ativos conforme a performance e mudanças no mercado.\n",
            "\n",
            "### 5. Principais Riscos e Como Mitigá-los\n",
            "\n",
            "- **Risco de Mercado:** \n",
            "  - **Mitigação:** Diversificação em diferentes setores e tipos de ativos, além de investir em ETFs que replicam índices de mercado.\n",
            "\n",
            "- **Risco de Liquidez:**\n",
            "  - **Mitigação:** Manter uma parte dos investimentos em ativos de alta liquidez, como Tesouro Selic e ações de grandes empresas.\n",
            "\n",
            "- **Risco de Taxa de Juros:**\n",
            "  - **Mitigação:** Incluir ativos que se beneficiem de um aumento nas taxas de juros, como títulos do Tesouro IPCA.\n",
            "\n",
            "- **Risco de Inflação:**\n",
            "  - **Mitigação:** Investir em ativos que superem a inflação, como ações e títulos atrelados ao IPCA.\n",
            "\n",
            "- **Risco de Criptomoedas:**\n",
            "  - **Mitigação:** Limitar a porcentagem do portfólio alocada em criptomoedas e manter uma abordagem de longo prazo.\n",
            "\n",
            "### Conclusão\n",
            "\n",
            "A estratégia de investimento proposta busca um equilíbrio entre crescimento e segurança, respeitando a tolerância ao risco do investidor. A diversificação entre ativos de renda variável, renda fixa, fundos imobiliários e criptomoedas proporciona uma estrutura robusta para atingir o objetivo de aposentadoria ao longo dos próximos 35 anos. O acompanhamento constante da carteira e o ajuste de alocação, conforme necessário, serão essenciais para maximizar o potencial de retorno e mitigar riscos.\n"
          ]
        }
      ],
      "source": [
        "complete_analysis_template = \"\"\"\n",
        "Realize uma análise completa de investimento para o seguinte cenário:\n",
        "\n",
        "Perfil do Investidor: {profile}\n",
        "Capital Disponível: R$ {capital}\n",
        "Objetivo: {goal}\n",
        "Prazo: {timeframe}\n",
        "Tolerância ao Risco: {risk_tolerance}\n",
        "\n",
        "Forneça:\n",
        "1. Estratégia de investimento recomendada\n",
        "2. Alocação de ativos sugerida\n",
        "3. Produtos financeiros específicos\n",
        "4. Cronograma de aportes\n",
        "5. Principais riscos e como mitigá-los\n",
        "\n",
        "Análise:\n",
        "\"\"\"\n",
        "\n",
        "complete_prompt = PromptTemplate(\n",
        "    input_variables=[\"profile\", \"capital\", \"goal\", \"timeframe\", \"risk_tolerance\"],\n",
        "    template=complete_analysis_template\n",
        ")\n",
        "\n",
        "analysis_chain = complete_prompt | llm\n",
        "\n",
        "result = analysis_chain.invoke({\n",
        "    \"profile\": \"Jovem profissional, 28 anos\",\n",
        "    \"capital\": \"50.000\",\n",
        "    \"goal\": \"Aposentadoria\",\n",
        "    \"timeframe\": \"35 anos\",\n",
        "    \"risk_tolerance\": \"Moderada\"\n",
        "})\n",
        "\n",
        "print(\"=== ANÁLISE COMPLETA DE INVESTIMENTO ===\")\n",
        "print(result.content)"
      ]
    },
    {
      "cell_type": "markdown",
      "id": "15019e83",
      "metadata": {
        "id": "15019e83"
      },
      "source": [
        "## **Exemplo 4: Sistema de Alertas de Mercado**\n",
        "\n",
        "Este exemplo implementa um sistema automatizado de geração de alertas sobre eventos de mercado. A função encapsula a lógica de criação de prompts dinâmicos e pode ser facilmente integrada em sistemas de monitoramento em tempo real, gerando análises contextualizadas para diferentes tipos de eventos econômicos."
      ]
    },
    {
      "cell_type": "code",
      "execution_count": 10,
      "id": "234adad2",
      "metadata": {
        "id": "234adad2",
        "colab": {
          "base_uri": "https://localhost:8080/"
        },
        "outputId": "9d3b67bc-f73c-4101-9f39-77efbfbef98b"
      },
      "outputs": [
        {
          "output_type": "stream",
          "name": "stdout",
          "text": [
            "=== SISTEMA DE ALERTAS DE MERCADO ===\n",
            "\n",
            "--- ALERTA 1 ---\n",
            "**Alerta para Investidores: Decisão do COPOM sobre Taxa Selic**\n",
            "\n",
            "**Resumo do Evento:**  \n",
            "O Comitê de Política Monetária (COPOM) do Banco Central do Brasil se reunirá em breve para decidir sobre a taxa Selic. A expectativa é de uma alta de 0,5%.\n",
            "\n",
            "**Impacto Esperado nos Mercados:**  \n",
            "Uma alta na Selic tende a encarecer o crédito, impactando o consumo e os investimentos. O mercado pode apresentar volatilidade, com potencial pressão sobre ações e títulos de renda fixa.\n",
            "\n",
            "**Setores/Ativos Mais Afetados:**  \n",
            "- **Setor Financeiro:** Bancos podem se beneficiar com margens de juros mais altas.  \n",
            "- **Setor de Consumo:** Empresas dependentes de crédito podem ser negativamente impactadas.  \n",
            "- **Setor Imobiliário:** Pode enfrentar dificuldades devido ao aumento nos custos de financiamento.\n",
            "\n",
            "**Ações Recomendadas para Investidores:**  \n",
            "1. Avaliar a exposição a ações de empresas do setor de consumo e imobiliário.  \n",
            "2. Considerar a diversificação em ativos de renda fixa que possam se beneficiar da alta da Selic.  \n",
            "3. Manter vigilância sobre o mercado para ajustes em portfólios conforme a decisão do COPOM.\n",
            "\n",
            "**Nível de Urgência:** Médio\n",
            "--------------------------------------------------------------------------------\n",
            "\n",
            "--- ALERTA 2 ---\n",
            "**Alerta para Investidores: Divulgação do PIB Trimestral**\n",
            "\n",
            "**Resumo do Evento:**  \n",
            "O Instituto Nacional de Estatística (INE) divulgará o PIB trimestral, proporcionando uma visão atualizada sobre o desempenho econômico do país. As expectativas apontam para um resultado dentro do esperado, sem surpresas significativas.\n",
            "\n",
            "**Impacto Esperado nos Mercados:**  \n",
            "O impacto nos mercados deve ser baixo, uma vez que o resultado está alinhado com as previsões. Não se espera volatilidade acentuada, mas a confirmação das expectativas pode trazer uma leve estabilidade.\n",
            "\n",
            "**Setores/Ativos Mais Afetados:**  \n",
            "- Setor Financeiro: bancos podem reagir positivamente à estabilidade econômica.\n",
            "- Setor de Consumo: empresas de varejo podem manter suas projeções otimistas.\n",
            "- Setor de Indústria: impactos limitados, mas monitorar a confiança do setor é importante.\n",
            "\n",
            "**Ações Recomendadas para Investidores:**  \n",
            "- Manter posições atuais em ações dos setores mencionados.\n",
            "- Monitorar notícias para eventuais ajustes em posições, caso surjam dados adicionais.\n",
            "- Considerar diversificação, mas evitar movimentos bruscos antes da divulgação.\n",
            "\n",
            "**Nível de Urgência:** Baixo  \n",
            "Os investidores podem acompanhar o evento sem a necessidade de ações imediatas, dado o impacto esperado.\n",
            "--------------------------------------------------------------------------------\n",
            "\n",
            "--- ALERTA 3 ---\n",
            "**Alerta para Investidores: Crise Geopolítica Internacional**\n",
            "\n",
            "**Resumo do Evento:**  \n",
            "Recentemente, uma crise geopolítica se intensificou, envolvendo tensões entre potências globais. As incertezas políticas e econômicas estão aumentando, levando a uma possível fuga de capital em busca de ativos mais seguros.\n",
            "\n",
            "**Impacto Esperado nos Mercados:**  \n",
            "A expectativa é de alta volatilidade nos mercados financeiros, com quedas acentuadas nas bolsas de valores e aumento da aversão ao risco. Os investimentos em ativos considerados seguros, como ouro e títulos do governo, devem se valorizar.\n",
            "\n",
            "**Setores/Ativos Mais Afetados:**  \n",
            "- **Setores em Risco:** Energia, Tecnologia e Financeiro, que podem enfrentar quedas significativas devido à instabilidade.\n",
            "- **Ativos em Alta:** Ouro, títulos de longo prazo e moedas fortes (como o dólar).\n",
            "\n",
            "**Ações Recomendadas para Investidores:**  \n",
            "1. **Diversificação:** Rebalancear portfólios para incluir ativos defensivos.\n",
            "2. **Aumentar Exposição em Ativos Seguros:** Considerar investimentos em ouro e títulos do governo.\n",
            "3. **Monitorar a Situação Geopolítica:** Acompanhar de perto as notícias e análises sobre a crise para ajustes rápidos na estratégia de investimento.\n",
            "\n",
            "**Nível de Urgência:** Alto  \n",
            "Investidores devem agir rapidamente para mitigar riscos e proteger seus investimentos diante da incerteza atual.\n",
            "--------------------------------------------------------------------------------\n"
          ]
        }
      ],
      "source": [
        "def generate_market_alert(event, impact):\n",
        "    prompt = f\"\"\"\n",
        "    Como analista de mercado, gere um alerta para investidores sobre o seguinte evento:\n",
        "\n",
        "    Evento: {event}\n",
        "    Impacto Estimado: {impact}\n",
        "\n",
        "    O alerta deve conter:\n",
        "    - Resumo do evento\n",
        "    - Impacto esperado nos mercados\n",
        "    - Setores/ativos mais afetados\n",
        "    - Ações recomendadas para investidores\n",
        "    - Nível de urgência (baixo/médio/alto)\n",
        "\n",
        "    Seja conciso e objetivo.\n",
        "    \"\"\"\n",
        "\n",
        "    response = llm.invoke(prompt)\n",
        "    return response.content\n",
        "\n",
        "\n",
        "events = [\n",
        "    (\"Decisão do COPOM sobre taxa Selic\", \"Moderado - possível alta de 0,5%\"),\n",
        "    (\"Divulgação do PIB trimestral\", \"Baixo - resultado dentro do esperado\"),\n",
        "    (\"Crise geopolítica internacional\", \"Alto - possível fuga de capital\")\n",
        "]\n",
        "\n",
        "print(\"=== SISTEMA DE ALERTAS DE MERCADO ===\")\n",
        "for i, (event, impact) in enumerate(events, 1):\n",
        "    alert = generate_market_alert(event, impact)\n",
        "\n",
        "    print(f\"\\n--- ALERTA {i} ---\")\n",
        "    print(alert)\n",
        "    print(\"-\" * 80)"
      ]
    },
    {
      "cell_type": "markdown",
      "source": [
        "## **Exemplo 5: Análise de Portfólio com Structured Output**\n",
        "\n",
        "Este exemplo demonstra o uso de **Structured Output** do LangChain para garantir que as respostas do LLM sigam um formato estruturado e validado. Utilizamos Pydantic models para definir o schema da resposta, garantindo que a análise de portfólio retorne dados consistentes e tipados que podem ser facilmente processados programaticamente.\n",
        "\n",
        "A estrutura de dados define campos obrigatórios como percentuais de alocação, score de risco e recomendações específicas, eliminando a necessidade de parsing manual das respostas do modelo.\n"
      ],
      "metadata": {
        "id": "HwUxQRcLew0i"
      },
      "id": "HwUxQRcLew0i"
    },
    {
      "cell_type": "code",
      "source": [
        "from typing import List\n",
        "from pydantic import BaseModel, Field\n",
        "\n",
        "\n",
        "class AssetAllocation(BaseModel):\n",
        "    asset_class: str = Field(description=\"Classe do ativo (Renda Fixa, Ações, FIIs, etc)\")\n",
        "    percentage: float = Field(description=\"Percentual de alocação recomendado\")\n",
        "    rationale: str = Field(description=\"Justificativa para esta alocação\")\n",
        "\n",
        "\n",
        "class PortfolioAnalysis(BaseModel):\n",
        "    investor_profile: str = Field(description=\"Perfil do investidor identificado\")\n",
        "    risk_score: int = Field(description=\"Score de risco de 1 a 10\")\n",
        "    allocations: List[AssetAllocation] = Field(description=\"Lista de alocações recomendadas\")\n",
        "    total_expected_return: float = Field(description=\"Retorno anual esperado em percentual\")\n",
        "    key_recommendations: List[str] = Field(description=\"Principais recomendações\")\n",
        "\n",
        "\n",
        "structured_llm = llm.with_structured_output(PortfolioAnalysis)\n",
        "\n",
        "portfolio_prompt = ChatPromptTemplate.from_messages([\n",
        "    (\"system\", \"\"\"Você é um planejador financeiro certificado.\n",
        "    Analise o perfil do investidor e forneça uma recomendação de portfólio estruturada.\"\"\"),\n",
        "    (\"human\", \"\"\"Investidor:\n",
        "    - Idade: {age} anos\n",
        "    - Capital: R$ {capital}\n",
        "    - Objetivo: {goal}\n",
        "    - Prazo: {timeframe}\n",
        "    - Experiência: {experience}\n",
        "\n",
        "    Forneça uma análise completa de portfólio.\"\"\")\n",
        "])\n",
        "\n",
        "portfolio_chain = portfolio_prompt | structured_llm\n",
        "\n",
        "analysis = portfolio_chain.invoke({\n",
        "    \"age\": \"35\",\n",
        "    \"capital\": \"100.000\",\n",
        "    \"goal\": \"Independência financeira\",\n",
        "    \"timeframe\": \"15 anos\",\n",
        "    \"experience\": \"Intermediário\"\n",
        "})\n",
        "\n",
        "print(\"=== ANÁLISE DE PORTFÓLIO ESTRUTURADA ===\\\\n\")\n",
        "print(f\"Perfil: {analysis.investor_profile}\")\n",
        "print(f\"Score de Risco: {analysis.risk_score}/10\")\n",
        "print(f\"Retorno Esperado: {analysis.total_expected_return}% ao ano\\\\n\")\n",
        "\n",
        "print(\"Alocação Recomendada:\")\n",
        "for allocation in analysis.allocations:\n",
        "    print(f\"  • {allocation.asset_class}: {allocation.percentage}%\")\n",
        "    print(f\"    Justificativa: {allocation.rationale}\\\\n\")\n",
        "\n",
        "print(\"Recomendações Principais:\")\n",
        "for i, rec in enumerate(analysis.key_recommendations, 1):\n",
        "    print(f\"  {i}. {rec}\")"
      ],
      "metadata": {
        "colab": {
          "base_uri": "https://localhost:8080/"
        },
        "id": "IL5hy0A8evoB",
        "outputId": "fb2b5d2c-5ec8-48b6-83e7-21ce06d0a28b"
      },
      "id": "IL5hy0A8evoB",
      "execution_count": 12,
      "outputs": [
        {
          "output_type": "stream",
          "name": "stdout",
          "text": [
            "=== ANÁLISE DE PORTFÓLIO ESTRUTURADA ===\\n\n",
            "Perfil: Moderado\n",
            "Score de Risco: 6/10\n",
            "Retorno Esperado: 8.0% ao ano\\n\n",
            "Alocação Recomendada:\n",
            "  • Ações: 40.0%\n",
            "    Justificativa: Ações têm potencial de crescimento a longo prazo e podem oferecer retornos significativos, alinhando-se ao objetivo de independência financeira.\\n\n",
            "  • Renda Fixa: 30.0%\n",
            "    Justificativa: A alocação em renda fixa proporciona uma maior segurança e estabilidade ao portfólio, ajudando a balancear a volatilidade das ações.\\n\n",
            "  • Fundos Imobiliários (FIIs): 15.0%\n",
            "    Justificativa: Os FIIs oferecem uma boa oportunidade de renda passiva e valorização, diversificando ainda mais o portfólio.\\n\n",
            "  • Fundos de Investimento em Ações: 10.0%\n",
            "    Justificativa: Os fundos de investimento em ações permitem diversificação em ações sem necessidade de gerenciamento ativo, ideal para um investidor intermediário.\\n\n",
            "  • Criptoativos: 5.0%\n",
            "    Justificativa: Uma pequena alocação em criptoativos pode proporcionar alto potencial de retorno, embora com maior risco, adequando-se ao perfil moderado.\\n\n",
            "Recomendações Principais:\n",
            "  1. Revisar o portfólio anualmente para ajustar as alocações conforme as mudanças no mercado e na situação pessoal.\n",
            "  2. Considerar a diversificação geográfica ao investir em ações, buscando oportunidades internacionais.\n",
            "  3. Manter um fundo de emergência com liquidez para evitar a venda de investimentos em momentos desfavoráveis.\n"
          ]
        }
      ]
    },
    {
      "cell_type": "markdown",
      "source": [
        "## **Exemplo 6: Sistema de Análise Multi-Step com RunnablePassthrough**\n",
        "\n",
        "Este exemplo implementa um pipeline complexo usando **RunnablePassthrough** e **RunnableLambda** para criar um sistema de análise financeira em múltiplas etapas. O fluxo passa por três estágios sequenciais:\n",
        "\n",
        "1. **Análise Fundamental**: Avalia métricas financeiras e fundamentos da empresa\n",
        "2. **Análise Técnica**: Examina padrões de preço e indicadores técnicos\n",
        "3. **Síntese Final**: Combina ambas análises em uma recomendação consolidada\n",
        "\n",
        "O RunnablePassthrough permite que dados sejam passados entre etapas mantendo o contexto completo, enquanto RunnableLambda possibilita transformações customizadas dos dados intermediários.\n",
        "\n"
      ],
      "metadata": {
        "id": "SgXNjrgNfCWi"
      },
      "id": "SgXNjrgNfCWi"
    },
    {
      "cell_type": "code",
      "source": [
        "from langchain_core.runnables import RunnableLambda, RunnablePassthrough\n",
        "\n",
        "\n",
        "fundamental_prompt = ChatPromptTemplate.from_messages([\n",
        "    (\"system\", \"\"\"Você é um analista fundamentalista.\n",
        "    Analise apenas os fundamentos financeiros da empresa.\"\"\"),\n",
        "    (\"human\", \"\"\"Empresa: {company}\n",
        "    Setor: {sector}\n",
        "    P/L: {pe_ratio}\n",
        "    ROE: {roe}%\n",
        "    Dividend Yield: {dividend_yield}%\n",
        "\n",
        "    Forneça análise fundamentalista concisa.\"\"\")\n",
        "])\n",
        "\n",
        "technical_prompt = ChatPromptTemplate.from_messages([\n",
        "    (\"system\", \"\"\"Você é um analista técnico.\n",
        "    Analise apenas os aspectos técnicos do ativo.\"\"\"),\n",
        "    (\"human\", \"\"\"Empresa: {company}\n",
        "    Preço Atual: R$ {current_price}\n",
        "    Máxima 52 semanas: R$ {high_52w}\n",
        "    Mínima 52 semanas: R$ {low_52w}\n",
        "    Volume Médio: {avg_volume}\n",
        "\n",
        "    Análise Fundamentalista Prévia: {fundamental_analysis}\n",
        "\n",
        "    Forneça análise técnica concisa.\"\"\")\n",
        "])\n",
        "\n",
        "synthesis_prompt = ChatPromptTemplate.from_messages([\n",
        "    (\"system\", \"\"\"Você é um estrategista de investimentos.\n",
        "    Sintetize as análises fundamental e técnica em uma recomendação final.\"\"\"),\n",
        "    (\"human\", \"\"\"Empresa: {company}\n",
        "\n",
        "    Análise Fundamentalista:\n",
        "    {fundamental_analysis}\n",
        "\n",
        "    Análise Técnica:\n",
        "    {technical_analysis}\n",
        "\n",
        "    Forneça recomendação final: COMPRA FORTE, COMPRA, MANTER, VENDA ou VENDA FORTE.\n",
        "    Justifique com base em ambas análises.\"\"\")\n",
        "])\n",
        "\n",
        "\n",
        "def extract_content(ai_message):\n",
        "    return ai_message.content\n",
        "\n",
        "\n",
        "multi_step_chain = (\n",
        "    RunnablePassthrough.assign(\n",
        "        fundamental_analysis=fundamental_prompt | llm | RunnableLambda(extract_content)\n",
        "    )\n",
        "    | RunnablePassthrough.assign(\n",
        "        technical_analysis=technical_prompt | llm | RunnableLambda(extract_content)\n",
        "    )\n",
        "    | RunnablePassthrough.assign(\n",
        "        final_recommendation=synthesis_prompt | llm | RunnableLambda(extract_content)\n",
        "    )\n",
        ")\n",
        "\n",
        "stock_data = {\n",
        "    \"company\": \"Vale S.A. (VALE3)\",\n",
        "    \"sector\": \"Mineração\",\n",
        "    \"pe_ratio\": \"4.5\",\n",
        "    \"roe\": \"18.5\",\n",
        "    \"dividend_yield\": \"9.2\",\n",
        "    \"current_price\": \"62.50\",\n",
        "    \"high_52w\": \"72.80\",\n",
        "    \"low_52w\": \"55.20\",\n",
        "    \"avg_volume\": \"45.000.000\"\n",
        "}\n",
        "\n",
        "result = multi_step_chain.invoke(stock_data)\n",
        "\n",
        "print(\"=== ANÁLISE MULTI-STEP VALE3 ===\\\\n\")\n",
        "print(\"📊 ANÁLISE FUNDAMENTALISTA:\")\n",
        "print(result[\"fundamental_analysis\"])\n",
        "print(\"\\\\n\" + \"=\"*80 + \"\\\\n\")\n",
        "\n",
        "print(\"📈 ANÁLISE TÉCNICA:\")\n",
        "print(result[\"technical_analysis\"])\n",
        "print(\"\\\\n\" + \"=\"*80 + \"\\\\n\")\n",
        "\n",
        "print(\"🎯 RECOMENDAÇÃO FINAL:\")\n",
        "print(result[\"final_recommendation\"])"
      ],
      "metadata": {
        "colab": {
          "base_uri": "https://localhost:8080/"
        },
        "id": "Im3xEGtbe5UE",
        "outputId": "c3a9d5c5-a3ea-44d5-af94-8b074302b49a"
      },
      "id": "Im3xEGtbe5UE",
      "execution_count": 14,
      "outputs": [
        {
          "output_type": "stream",
          "name": "stdout",
          "text": [
            "=== ANÁLISE MULTI-STEP VALE3 ===\\n\n",
            "📊 ANÁLISE FUNDAMENTALISTA:\n",
            "A análise fundamentalista da Vale S.A. (VALE3) apresenta alguns pontos positivos e negativos que merecem consideração.\n",
            "\n",
            "**P/L (Preço sobre Lucro):** Com um P/L de 4.5, a Vale está sendo negociada a um múltiplo relativamente baixo em comparação com o mercado em geral. Isso pode indicar que as ações estão subvalorizadas, sugerindo uma oportunidade de compra, ou pode refletir preocupações com o futuro da empresa.\n",
            "\n",
            "**ROE (Retorno sobre Patrimônio Líquido):** Um ROE de 18.5% é um indicador forte de que a empresa está gerando um bom retorno sobre o capital dos acionistas. Isso sugere eficiência na utilização dos recursos e pode atrair investidores que buscam empresas com forte capacidade de geração de lucros.\n",
            "\n",
            "**Dividend Yield:** O Dividend Yield de 9.2% é bastante atrativo, especialmente em um cenário de juros baixos, tornando a Vale uma opção interessante para investidores que buscam renda passiva. Esse nível de dividendos sugere que a empresa está em uma posição financeira sólida para distribuir lucro aos acionistas.\n",
            "\n",
            "**Considerações Finais:** A Vale S.A. apresenta fundamentos financeiros robustos, com um P/L baixo, um ROE saudável e um alto Dividend Yield. No entanto, é essencial acompanhar fatores macroeconômicos e específicos do setor de mineração, como flutuações nos preços das commodities e regulação ambiental, que podem impactar o desempenho futuro da empresa. Portanto, investidores devem considerar esses aspectos ao tomar decisões de investimento.\n",
            "\\n================================================================================\\n\n",
            "📈 ANÁLISE TÉCNICA:\n",
            "**Análise Técnica da Vale S.A. (VALE3)**\n",
            "\n",
            "1. **Preço Atual e Níveis de Suporte e Resistência:**\n",
            "   - **Preço Atual:** R$ 62.50\n",
            "   - **Máxima 52 Semanas:** R$ 72.80 (Resistência)\n",
            "   - **Mínima 52 Semanas:** R$ 55.20 (Suporte)\n",
            "   - O ativo se encontra próximo da média de preço, mas abaixo da resistência significativa em R$ 72.80. A superação desse nível pode indicar um movimento de alta.\n",
            "\n",
            "2. **Tendência de Preço:**\n",
            "   - Analisando a tendência, se o preço estiver se aproximando do suporte em R$ 55.20, pode haver uma oportunidade de compra, especialmente se houver uma confirmação de reversão. Por outro lado, se o preço romper para baixo esse suporte, pode indicar uma tendência de baixa.\n",
            "\n",
            "3. **Volume Médio:**\n",
            "   - O volume médio de 45.000.000 indica um bom nível de liquidez. Aumentos de volume durante movimentos de alta ou baixa podem confirmar a força do movimento.\n",
            "\n",
            "4. **Indicadores Técnicos:**\n",
            "   - **Médias Móveis:** Observar as Médias Móveis (MM) de curto e longo prazo pode ajudar a identificar a tendência. Um cruzamento de MM (por exemplo, a MM de 50 dias cruzando acima da MM de 200 dias) pode ser um sinal de compra.\n",
            "   - **Índice de Força Relativa (RSI):** Um RSI abaixo de 30 pode indicar que o ativo está sobrevendido, enquanto acima de 70 pode indicar sobrecompra. Acompanhar esses níveis pode ajudar na definição de pontos de entrada e saída.\n",
            "\n",
            "5. **Padrões Gráficos:**\n",
            "   - Observar formações como topos e fundos pode ajudar a identificar possíveis reversões ou continuação de tendência. Uma formação de triângulo ou bandeira pode indicar uma consolidação antes de um movimento significativo.\n",
            "\n",
            "**Conclusão:** A análise técnica da VALE3 sugere monitorar os níveis de suporte e resistência, o volume e indicadores técnicos para avaliar oportunidades de compra ou venda. A superação da resistência em R$ 72.80 seria um sinal positivo, enquanto a perda do suporte em R$ 55.20 poderia indicar a continuidade de uma tendência de baixa.\n",
            "\\n================================================================================\\n\n",
            "🎯 RECOMENDAÇÃO FINAL:\n",
            "**Recomendação Final: COMPRA FORTE**\n",
            "\n",
            "**Justificativa:**\n",
            "\n",
            "1. **Análise Fundamentalista:**\n",
            "   - O P/L de 4.5 indica que as ações da Vale S.A. estão subvalorizadas em relação ao mercado, o que sugere uma oportunidade de compra. \n",
            "   - Um ROE de 18.5% demonstra a eficiência da empresa em gerar retorno para os acionistas, sinalizando uma gestão sólida e a capacidade de gerar lucros de forma eficiente.\n",
            "   - O Dividend Yield de 9.2% é extremamente atrativo, especialmente em um ambiente de juros baixos, proporcionando aos investidores uma renda passiva considerável e atestando a saúde financeira da empresa para distribuir dividendos.\n",
            "\n",
            "2. **Análise Técnica:**\n",
            "   - O preço atual de R$ 62.50 está próximo do suporte em R$ 55.20, o que pode oferecer uma boa oportunidade de compra, especialmente se ocorrer uma confirmação de reversão nesse nível.\n",
            "   - A resistência em R$ 72.80, se rompida, pode indicar um movimento de alta, o que reforça a ideia de que a Vale possui potencial de valorização no curto a médio prazo.\n",
            "   - Indicadores técnicos como Médias Móveis e RSI devem ser monitorados, mas a análise atual sugere que a ação pode estar se preparando para uma movimentação positiva.\n",
            "\n",
            "**Considerações Finais:**\n",
            "A combinação de uma análise fundamentalista robusta, com múltiplos atrativos e uma sólida distribuição de dividendos, juntamente com uma perspectiva técnica que sugere um potencial de alta, leva à conclusão de que a Vale S.A. (VALE3) é uma excelente oportunidade de investimento no momento. Portanto, a recomendação é **COMPRA FORTE**.\n"
          ]
        }
      ]
    },
    {
      "cell_type": "code",
      "source": [],
      "metadata": {
        "id": "wdmHU4JBfK3b"
      },
      "id": "wdmHU4JBfK3b",
      "execution_count": null,
      "outputs": []
    }
  ],
  "metadata": {
    "kernelspec": {
      "display_name": "Python 3",
      "language": "python",
      "name": "python3"
    },
    "language_info": {
      "codemirror_mode": {
        "name": "ipython",
        "version": 3
      },
      "file_extension": ".py",
      "mimetype": "text/x-python",
      "name": "python",
      "nbconvert_exporter": "python",
      "pygments_lexer": "ipython3",
      "version": "3.8.3"
    },
    "colab": {
      "provenance": []
    }
  },
  "nbformat": 4,
  "nbformat_minor": 5
}